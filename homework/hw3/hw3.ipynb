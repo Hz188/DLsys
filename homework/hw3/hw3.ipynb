{
 "cells": [
  {
   "cell_type": "markdown",
   "metadata": {
    "id": "b38216e2"
   },
   "source": [
    "# Homework 3: Building an NDArray library\n",
    "\n",
    "In this homework, you will build a simple backing library for the processing that underlies most deep learning systems: the n-dimensional array (a.k.a. the NDArray).  Up until now, you have largely been using numpy for this purpose, but this homework will walk you through developing what amounts to your own (albeit much more limited) variant of numpy, which will support both CPU and GPU backends.  What's more, unlike numpy (and even variants like PyTorch), you won't simply call out to existing highly-optimized variants of matrix multiplication or other manipulation code, but actually write your own versions that are reasonably competitive will the highly optimized code backing these standard libraries (by some measure, i.e., \"only 2-3x slower\" ... which is a whole lot better than naive code that can easily be 100x slower).  This class will ultimately be integrated into `needle`, but for this assignment you can _only_ focus on the ndarray module, as this will be the only subject of the tests.\n",
    "\n",
    "在这个作业中，你将构建一个简单的支持深度学习系统基础处理的后端库：n维数组（也称为NDArray）。 目前为止，你在很大程度上一直在使用numpy来实现这个目的，但这个作业将带你逐步开发自己的（尽管功能更有限）numpy变体，它将支持CPU和GPU后端。 更重要的是，与numpy（甚至像PyTorch这样的变体）不同，你不会简单地调用现有高度优化的矩阵乘法或其他操作代码，而是实际编写自己的版本，这些版本在某种程度上与支持这些标准库的高度优化代码竞争力相当（以某种度量，“仅比快速优化代码慢2-3倍”...这比容易慢100倍的朴素代码好多了）。 这个类最终将集成到`needle`中，但在本次作业中，你只能专注于ndarray模块，因为这将是测试的唯一主题。"
   ]
  },
  {
   "cell_type": "code",
   "execution_count": 12,
   "id": "a3d3204c",
   "metadata": {
    "id": "db5a484c"
   },
   "outputs": [],
   "source": [
    "# Code to set up the assignment\n",
    "# from google.colab import drive\n",
    "# drive.mount('/content/drive')\n",
    "# %cd /content/drive/MyDrive/\n",
    "# !mkdir -p 10714\n",
    "# %cd /content/drive/MyDrive/10714\n",
    "# !git clone https://github.com/dlsys10714/hw3.git\n",
    "# %cd /content/drive/MyDrive/10714/hw3\n",
    "\n",
    "# !pip3 install --upgrade --no-deps git+https://github.com/dlsys10714/mugrade.git\n",
    "# !pip3 install pybind11"
   ]
  },
  {
   "cell_type": "code",
   "execution_count": 13,
   "id": "3bcbeb3d",
   "metadata": {
    "id": "09eedbc6"
   },
   "outputs": [
    {
     "name": "stdout",
     "output_type": "stream",
     "text": [
      "rm -rf build python/needle/backend_ndarray/ndarray_backend*.so\n"
     ]
    },
    {
     "name": "stdout",
     "output_type": "stream",
     "text": [
      "-- The C compiler identification is AppleClang 15.0.0.15000100\n",
      "-- The CXX compiler identification is AppleClang 15.0.0.15000100\n",
      "-- Detecting C compiler ABI info\n",
      "-- Detecting C compiler ABI info - done\n",
      "-- Check for working C compiler: /Library/Developer/CommandLineTools/usr/bin/cc - skipped\n",
      "-- Detecting C compile features\n",
      "-- Detecting C compile features - done\n",
      "-- Detecting CXX compiler ABI info\n",
      "-- Detecting CXX compiler ABI info - done\n",
      "-- Check for working CXX compiler: /Library/Developer/CommandLineTools/usr/bin/c++ - skipped\n",
      "-- Detecting CXX compile features\n",
      "-- Detecting CXX compile features - done\n",
      "\u001b[33mCMake Warning (dev) at /usr/local/share/cmake/pybind11/FindPythonLibsNew.cmake:101 (message):\n",
      "  Policy CMP0148 is not set: The FindPythonInterp and FindPythonLibs modules\n",
      "  are removed.  Run \"cmake --help-policy CMP0148\" for policy details.  Use\n",
      "  the cmake_policy command to set the policy and suppress this warning, or\n",
      "  preferably upgrade to using FindPython, either by calling it explicitly\n",
      "  before pybind11, or by setting PYBIND11_FINDPYTHON ON before pybind11.\n",
      "Call Stack (most recent call first):\n",
      "  /usr/local/share/cmake/pybind11/pybind11Tools.cmake:50 (find_package)\n",
      "  /usr/local/share/cmake/pybind11/pybind11Common.cmake:188 (include)\n",
      "  /usr/local/share/cmake/pybind11/pybind11Config.cmake:250 (include)\n",
      "  CMakeLists.txt:16 (find_package)\n",
      "This warning is for project developers.  Use -Wno-dev to suppress it.\n",
      "\u001b[0m\n",
      "-- Found PythonInterp: /Users/genghaozhe/anaconda3/envs/dlsys/bin/python (found suitable version \"3.11.5\", minimum required is \"3.6\") \n",
      "-- Found PythonLibs: /Users/genghaozhe/anaconda3/envs/dlsys/lib/libpython3.11.dylib\n",
      "-- Performing Test HAS_FLTO_THIN\n",
      "-- Performing Test HAS_FLTO_THIN - Failed\n",
      "-- Performing Test HAS_FLTO\n",
      "-- Performing Test HAS_FLTO - Success\n",
      "-- Found pybind11: /usr/local/include (found version \"2.12.0dev1\")\n",
      "\u001b[33mCMake Warning (dev) at CMakeLists.txt:56 (find_package):\n",
      "  Policy CMP0146 is not set: The FindCUDA module is removed.  Run \"cmake\n",
      "  --help-policy CMP0146\" for policy details.  Use the cmake_policy command to\n",
      "  set the policy and suppress this warning.\n",
      "\n",
      "This warning is for project developers.  Use -Wno-dev to suppress it.\n",
      "\u001b[0m\n",
      "\u001b[0mCUDA_TOOLKIT_ROOT_DIR not found or specified\u001b[0m\n",
      "-- Could NOT find CUDA (missing: CUDA_TOOLKIT_ROOT_DIR CUDA_NVCC_EXECUTABLE CUDA_INCLUDE_DIRS CUDA_CUDART_LIBRARY) \n",
      "-- Configuring done (1.2s)\n",
      "-- Generating done (0.0s)\n",
      "-- Build files have been written to: /Users/genghaozhe/Desktop/Course/DLsys/homework/hw3/build\n",
      "[ 50%] \u001b[32mBuilding CXX object CMakeFiles/ndarray_backend_cpu.dir/src/ndarray_backend_cpu.cc.o\u001b[0m\n",
      "[100%] \u001b[32m\u001b[1mLinking CXX shared module /Users/genghaozhe/Desktop/Course/DLsys/homework/hw3/python/needle/backend_ndarray/ndarray_backend_cpu.cpython-311-darwin.so\u001b[0m\n",
      "[100%] Built target ndarray_backend_cpu\n"
     ]
    }
   ],
   "source": [
    "!make clean\n",
    "!make"
   ]
  },
  {
   "cell_type": "code",
   "execution_count": 14,
   "id": "be1d5ea0",
   "metadata": {
    "id": "glK6Q7Ik-2cJ"
   },
   "outputs": [
    {
     "name": "stdout",
     "output_type": "stream",
     "text": [
      "env: PYTHONPATH=./python\n",
      "env: NEEDLE_BACKEND=nd\n"
     ]
    }
   ],
   "source": [
    "%set_env PYTHONPATH ./python\n",
    "%set_env NEEDLE_BACKEND nd"
   ]
  },
  {
   "cell_type": "code",
   "execution_count": 15,
   "id": "dbb2be41",
   "metadata": {
    "id": "e7aadcf9"
   },
   "outputs": [],
   "source": [
    "import sys\n",
    "sys.path.append('./python')"
   ]
  },
  {
   "cell_type": "markdown",
   "id": "5f5b79d0",
   "metadata": {
    "id": "899bc262"
   },
   "source": [
    "## Getting familiar with the NDArray class\n",
    "\n",
    "As you get started with this homework, you should first familiarize yourself with the `NDArray.py` class we have provided as a starting point for the assignment.  The code is fairly brief (it's ~500 lines, but a lot of these are comments provided for the functions you'll implement).\n",
    "\n",
    "At its core, the NDArray class is a Python wrapper for handling operations on generic n-dimensional arrays.  Recall that virtually any such array will be stored internally as a vector of floating point values, i.e.,\n",
    "\n",
    "```c++\n",
    "float data[size];\n",
    "```\n",
    "\n",
    "and then the actual access to different dimensions of the array are all handled by additional fields (such as the array shape, strides, etc) that indicates how this \"flat\" array maps to n-dimensional structure.  In order to achieve any sort of reasonable speed, the \"raw\" operations (like adding, binary operations, but also more structured operations like matrix multiplication, etc), all need to be written at some level in some native language like C++ (including e.g., making CUDA calls).  But a large number of operations likes transposing, broadcasting, sub-setting of matrices, and other, can all be handled by just adjusting the high-level structure of the array, like it's strides.\n",
    "\n",
    "在开始这项作业时，你应该先熟悉我们提供的`NDArray.py`类，作为这个任务的起点。这段代码相当简洁（大约500行，但很多是针对你将实现的函数提供的注释）。\n",
    "\n",
    "在其核心，NDArray类是一个用于处理通用n维数组操作的Python包装器。请记住，几乎任何这样的数组都会在内部以浮点值向量的形式存储，即\n",
    "\n",
    "```c++\n",
    "float data[size];\n",
    "```\n",
    "\n",
    "然后，对数组的不同维度的实际访问都由额外的字段（如数组形状、步幅等）处理，这些字段指示这个“扁平”数组如何映射到n维结构。为了实现任何合理的速度，所有“原始”操作（如加法、二进制操作，以及更结构化的操作，如矩阵乘法等）都需要在某种本地语言（如C++）的某个级别编写（包括例如进行CUDA调用）。但是，许多操作，如转置、广播、子集取值等，都可以通过调整数组的高级结构，比如步幅，来处理。\n",
    "\n",
    "---\n",
    "\n",
    "The philosophy behind the NDArray class is that we want _all_ the logic for handling this structure of the array to be written in Python.  Only the \"true\" low level code that actually performs the raw underlying operations on the flat vector (as well as the code to manage these flat vectors, as they might need to e.g., be allocated on GPUs), is written in C++.  The precise nature of this separation will likely start to make more sense to you as you work through the assignment, but generally speaking everything that can be done in Python, is done in Python; often e.g., at the cost of some inefficiencies ... we call `.compact()` (which copies memory) liberally in order to make the underlying C++ implementations simpler.\n",
    "\n",
    "In more detail, there are five fields within the NDArray class that you'll need to be familiar with (note that the real class member these all these fields is preceded by an underscore, e.g., `_handle`, `_strides`, etc, some of which are then exposed as a public property ... for all your code it's fine to use the internal, underscored version).\n",
    "\n",
    "1. `device` - A object of type `BackendDevice`, which is a simple wrapper that contains a link to the underlying device backend (e.g., CPU or CUDA).\n",
    "2. `handle` - A class objected that stores the underlying memory of the array.  This is allocated as a class of type `device.Array()`, though this allocation all happens in the provided code (specifically the `NDArray.make` function), and you don't need to worry about calling it yourself.\n",
    "3. `shape` - A tuple specifying the size of each dimension in the array.\n",
    "4. `strides` - A tuple specifying the strides of each dimension in the array.\n",
    "5. `offset` - An integer indicating where in the underlying `device.Array` memory the array actually starts (it's convenient to store this so we can more easily manage pointing back to existing memory, without having to track allocations).\n",
    "\n",
    "NDArray类背后的理念是，我们希望所有处理数组结构的逻辑都用Python编写。只有实际执行原始底层操作的“真正”低级代码（以及管理这些平坦向量的代码，因为它们可能需要在GPU上分配），才用C++编写。这种分离的确切性质可能在您完成作业时开始变得更加清晰，但一般来说，所有可以在Python中完成的事情都会在Python中完成；通常会牺牲一些效率...我们经常自由地调用`.compact()`（复制内存），以使底层C++实现更简单。\n",
    "\n",
    "更详细地说，您需要熟悉NDArray类中的五个字段（请注意，所有这些字段的真实类成员都以下划线开头，例如，`_handle`，`_strides`等等，其中一些然后作为公共属性公开...对于您的所有代码来说，使用内部的下划线版本是可以的）。\n",
    "\n",
    "1. `device` - 一个类型为 `BackendDevice` 的对象，它是一个简单的包装器，包含了指向底层设备后端（例如 CPU 或 CUDA）的链接。\n",
    "2. `handle` - 一个类对象，用于存储数组的底层内存。这被分配为 `device.Array()` 类型的类，尽管这个分配都是在提供的代码中进行的（特别是 `NDArray.make` 函数），你不需要担心自己调用它。\n",
    "3. `shape` - 一个元组，指定数组中每个维度的大小。\n",
    "4. `strides` - 一个元组，指定数组中每个维度的步幅。\n",
    "5. `offset` - 一个整数，指示数组实际开始的地方在底层的 `device.Array` 内存中（将其存储起来很方便，这样我们可以更容易地管理指向现有内存的指针，而不必跟踪分配）。\n",
    "\n",
    "---\n",
    "\n",
    "By manipulating these fields, even pure Python code can perform a lot of the needed operations on the array, such as permuting the dimensions (i.e., transposing), broadcasting, and more.  And then for the raw array manipulation calls, the `device` class has a number of methods (implemented in C++) that contains the necessary implementations.\n",
    "\n",
    "There are a few points to note:\n",
    "\n",
    "* Internally, the class can use _any_ efficient means of operating on arrays of data as a \"device\" backend.  Even, for example, a numpy array, but where instead of actually using the `numpy.ndarray` to represent the n-dimensional array, we just represent a \"flat\" 1D array in numpy, then call the relevant numpy methods to implement all the needed operators on this raw memory.  This is precisely what we do in the `ndarray_backend_numpy.py` file, which essentially provided a \"stub reference\" that just uses numpy for everything.  You can use this class to help you  better debug your own \"real\" implementations for the \"native\" CPU and GPU backends.\n",
    "* Of particular importance for many of your Python implementations will be the `NDArray.make` call:\n",
    "```python\n",
    "def make(shape, strides=None, device=None, handle=None, offset=0):\n",
    "```\n",
    "which creates a new NDArray with the given shape, strides, device, handle, and offset.  If `handle` is not specified (i.e., no pre-existing memory is referenced), then the call will allocate the needed memory, but if handle _is_ specified then no new memory is allocated, but the new NDArray points the same memory as the old one.  It is important to efficient implementations that as many of your functions as possible _don't_ allocate new memory, so you will want to use this call in many cases to accomplish this.\n",
    "* The NDArray has a `.numpy()` call that converts the array to numpy.  This is _not_ the same as the \"numpy_device\" backend: this creates an actual `numpy.ndarray` that is equivalent to the given NDArray, i.e., the same dimensions, shape, etc, though not necessarily the same strides (Pybind11 will reallocate memory for matrices that are returned in this manner, which can change the striding).\n",
    "\n",
    "\n",
    "通过操纵这些字段，即使是纯Python代码也可以在数组上执行许多所需的操作，比如置换维度（即转置）、广播等。然后对于原始数组操作调用，`device`类有许多方法（在C++中实现），其中包含了必要的实现。\n",
    "\n",
    "有几点需要注意：\n",
    "\n",
    "* 在内部，该类可以使用_任何_高效操作数据数组的方式作为“设备”后端。甚至，例如，一个numpy数组，但是我们不是实际使用`numpy.ndarray`来表示n维数组，而是在numpy中表示一个“平坦”的1D数组，然后调用相关的numpy方法来实现对这个原始内存的所有所需操作符。这正是我们在`ndarray_backend_numpy.py`文件中所做的，它基本上提供了一个仅使用numpy的“存根引用”。您可以使用此类来帮助您更好地调试自己的“真实”实现，用于“本机”CPU和GPU后端。\n",
    "* 对于您的许多Python实现特别重要的是`NDArray.make`调用：\n",
    "\n",
    "```python\n",
    "def make(shape, strides=None, device=None, handle=None, offset=0):\n",
    "```\n",
    "\n",
    "它使用给定的形状、步幅、设备、句柄和偏移量创建一个新的NDArray。如果未指定`handle`（即没有引用预先存在的内存），那么调用将分配所需的内存，但如果指定了`handle`，则不会分配新的内存，而是新的NDArray指向与旧的相同的内存。对于尽可能多的函数不分配新内存是非常重要的，因此在许多情况下您将希望使用此调用来实现这一点。\n",
    "\n",
    "* NDArray有一个`.numpy()`调用，将数组转换为numpy。这与“numpy_device”后端不同：这将创建一个实际的`numpy.ndarray`，它等价于给定的NDArray，即相同的维度、形状等，尽管不一定是相同的步幅（Pybind11将为以这种方式返回的矩阵重新分配内存，这可能会改变步幅）。"
   ]
  },
  {
   "cell_type": "markdown",
   "id": "4eb1e172",
   "metadata": {
    "id": "cc7c24db"
   },
   "source": [
    "## Part 1: Python array operations\n",
    "\n",
    "As a starting point for your class, implement the following functions in the `ndarray.py` file:\n",
    "\n",
    "- `reshape()`\n",
    "- `permute()`\n",
    "- `broadcast_to()`\n",
    "- `__getitem__()`\n",
    "\n",
    "The inputs/outputs of these functions are all described in the docstring of the function stub.  It's important to emphasize that _none_ of these functions should reallocate memory, but should instead return NDArrays that share the same memory with `self`, and just use clever manipulation of shape/strides/etc in order to obtain the necessary transformations.\n",
    "\n",
    "One thing to note is that the `__getitem__()` call, unlike numpy, will never change the number of dimensions in the array.  So e.g., for a 2D NDArray `A`, `A[2,2]` would return a still-2D with one row and one column.  And e.g. `A[:4,2]` would return a 2D NDarray with 4 rows and 1 column.\n",
    "\n",
    "You can rely on the `ndarray_backend_numpy.py` module for all the code in this section.  You can also look at the results of equivalent numpy operations (the test cases should illustrate what these are).\n",
    "\n",
    "After implementing these functions, you should pass/submit the following tests.  Note that we test all of these four functions within the test below, and you can incrementally try to pass more tests as you implement each additional function.\n",
    "\n",
    "作为课程的起点，在`ndarray.py`文件中实现以下函数：\n",
    "\n",
    "- `reshape()`\n",
    "- `permute()`\n",
    "- `broadcast_to()`\n",
    "- `__getitem__()`\n",
    "\n",
    "这些函数的输入/输出都在函数存根的文档字符串中有描述。重要的是要强调，_所有_这些函数都不应重新分配内存，而应该返回与`self`共享相同内存的NDArrays，并且仅使用形状/步幅等的巧妙操作来获得所需的转换。\n",
    "\n",
    "需要注意的一点是，与numpy不同，`__getitem__()`调用永远不会改变数组的维数。例如，对于一个2D NDArray `A`，`A[2,2]`会返回一个仍然是2D的数组，具有一行和一列。例如，`A[:4,2]`会返回一个具有4行和1列的2D NDArray。\n",
    "\n",
    "您可以依赖`ndarray_backend_numpy.py`模块中的所有代码来完成本节中的工作。您也可以查看等效numpy操作的结果（测试案例应说明这些操作是什么）。\n",
    "\n",
    "在实现这些函数之后，您应该通过/提交以下测试。请注意，我们在下面的测试中测试所有这四个函数，您可以在实现每个额外函数时逐步尝试通过更多测试。\n",
    "\n",
    "---"
   ]
  },
  {
   "cell_type": "code",
   "execution_count": 16,
   "id": "8d9f2320",
   "metadata": {
    "id": "835c3880"
   },
   "outputs": [
    {
     "name": "stdout",
     "output_type": "stream",
     "text": [
      "\u001b[1m============================= test session starts ==============================\u001b[0m\n",
      "platform darwin -- Python 3.11.5, pytest-7.4.3, pluggy-1.3.0 -- /Users/genghaozhe/anaconda3/envs/dlsys/bin/python3\n",
      "cachedir: .pytest_cache\n",
      "rootdir: /Users/genghaozhe/Desktop/Course/DLsys/homework/hw3\n",
      "\u001b[1mcollecting ... \u001b[0mUsing needle backend\n",
      "collected 138 items / 127 deselected / 11 selected                             \u001b[0m\u001b[1m\n",
      "\n",
      "tests/hw3/test_ndarray.py::test_permute[cpu-params0] \u001b[32mPASSED\u001b[0m\n",
      "tests/hw3/test_ndarray.py::test_permute[cpu-params1] \u001b[32mPASSED\u001b[0m\n",
      "tests/hw3/test_ndarray.py::test_permute[cpu-params2] \u001b[32mPASSED\u001b[0m\n",
      "tests/hw3/test_ndarray.py::test_reshape[cpu-params0] \u001b[32mPASSED\u001b[0m\n",
      "tests/hw3/test_ndarray.py::test_reshape[cpu-params1] \u001b[32mPASSED\u001b[0m\n",
      "tests/hw3/test_ndarray.py::test_getitem[cpu-params0] \u001b[32mPASSED\u001b[0m\n",
      "tests/hw3/test_ndarray.py::test_getitem[cpu-params1] \u001b[32mPASSED\u001b[0m\n",
      "tests/hw3/test_ndarray.py::test_getitem[cpu-params2] \u001b[32mPASSED\u001b[0m\n",
      "tests/hw3/test_ndarray.py::test_getitem[cpu-params3] \u001b[32mPASSED\u001b[0m\n",
      "tests/hw3/test_ndarray.py::test_getitem[cpu-params4] \u001b[32mPASSED\u001b[0m\n",
      "tests/hw3/test_ndarray.py::test_broadcast_to[cpu-params0] \u001b[32mPASSED\u001b[0m\n",
      "\n",
      "\u001b[32m====================== \u001b[32m\u001b[1m11 passed\u001b[0m, \u001b[33m127 deselected\u001b[0m\u001b[32m in 1.23s\u001b[0m\u001b[32m ======================\u001b[0m\n"
     ]
    }
   ],
   "source": [
    "!python3 -m pytest -v -k \"(permute or reshape or broadcast or getitem) and cpu and not compact\" -s"
   ]
  },
  {
   "cell_type": "code",
   "execution_count": 17,
   "id": "042e95e2",
   "metadata": {},
   "outputs": [],
   "source": [
    "# !python3 -m mugrade submit \"YOUR KEY HERE\" -k \"ndarray_python_ops\""
   ]
  },
  {
   "cell_type": "markdown",
   "metadata": {
    "id": "21f48d27"
   },
   "source": [
    "## Part 2: CPU Backend - Compact and setitem\n",
    "\n",
    "Implement the following functions in `ndarray_backend_cpu.cc`:\n",
    "* `Compact()`\n",
    "* `EwiseSetitem()`\n",
    "* `ScalarSetitem()`\n",
    "\n",
    "To see why these are all in the same category, let's consider the implementation of the `Compact()` function.  Recall that a matrix is considered compact if it is layed out sequentially in memory in \"row-major\" form (but really a generalization of row-many to higher dimensional arrays), i.e. with the last dimension first, followed by the second to last dimension, etc, all the way to the first.  In our implementation, we also require that the total size of allocated backend array be equal to the size of the array (i.e., the underlying array also can't have any data before or after the array data, which e.g., implies that the `.offset` field equals zero).\n",
    "\n",
    "在`ndarray_backend_cpu.cc`中实现以下功能：\n",
    "* `Compact()`\n",
    "* `EwiseSetitem()`\n",
    "* `ScalarSetitem()`\n",
    "\n",
    "要了解为什么它们都属于同一类别，让我们考虑`Compact()`函数的实现。回想一下，如果矩阵在内存中以“行优先”形式依次布局（实际上是对高维数组的一般化），则矩阵被视为紧凑。也就是说，最后一个维度首先，然后是倒数第二个维度，依此类推，一直到第一个维度。在我们的实现中，我们还要求分配的后端数组的总大小等于数组的大小（即，底层数组也不能在数组数据之前或之后有任何数据，这意味着`.offset`字段等于零）。\n",
    "\n",
    "---\n",
    "\n",
    "Now let's consider, using a 3D array as a an example, of how a compact call might work.  Here `shape` and `strides` are the shape and strides of the matrix being compacted (i.e., before we have compacted it).\n",
    "\n",
    "```c++\n",
    "cnt = 0;\n",
    "for (size_t i = 0; i < shape[0]; i++)\n",
    "    for (size_t j = 0; j < shape[1]; j++)\n",
    "        for (size_t k = 0; k < shape[2]; k++)\n",
    "            out[cnt++] = in[strides[0]*i + strides[1]*j + strides[2]*k];\n",
    "```\n",
    "In other words, we're converting from a stride-based representation of the matrix to a purely sequential one.\n",
    "\n",
    "现在让我们来考虑，以一个3D数组为例，看看紧凑调用是如何工作的。这里的`shape`和`strides`是被紧缩的矩阵的形状和步幅（即在我们对其进行紧缩之前）。\n",
    "\n",
    "```c++\n",
    "...code省略复制\n",
    "```\n",
    "\n",
    "换句话说，我们正在将矩阵从基于步幅的表示转换为纯粹的顺序表示。\n",
    "\n",
    "---\n",
    "\n",
    "Now, the challenge in implementing `Compact()` is that you want the method to work for any number of input dimensions.  It's easy to specialize for different fixed-dimension-size arrays, but for a generic implementation, you'll want to think about how to do this same operation where you effectively want a \"variable number of for loops\".  As a hint, one way to do this is to maintain a vector of indices (of size equal to the number of dimensions), and then manually increment them in a loop (including a \"carry\" operation when any of the reaches their maximum size).\n",
    "\n",
    "However, if you get really stuck with this, you can alway use the fact that we're probably not going to ask you to deal with matrices of more than 6 dimensions (though we _will_ use 6 dimensions, for the im2col operation we discussed in class).\n",
    "\n",
    "现在，在实现`Compact()`中的挑战在于你希望该方法适用于任意数量的输入维度。对于不同固定维度大小的数组，专门化很容易，但对于通用实现，你需要考虑如何执行相同的操作，实际上你需要一个“可变数量的for循环”。作为提示，一种方法是维护一个索引向量（大小等于维度数量），然后在循环中手动递增它们（包括在任何达到其最大大小时进行“进位”操作）。\n",
    "\n",
    "然而，如果你在这方面遇到真正困难，你可以利用这样一个事实，即我们可能不会要求你处理超过6维的矩阵（尽管我们将使用6维，用于我们在课堂上讨论的im2col操作）。\n",
    "\n",
    "---\n",
    "\n",
    "#### The connection to setitem\n",
    "The setitem functionality, while seemingly quite different, is actually intimately related to `Compact()`.  `__setitem()__` is the Python function called when setting some elements of the object, i.e.,\n",
    "```python\n",
    "A[::2,4:5,9] = 0 # or = some_other_array\n",
    "```\n",
    "How would you go about implementing this?  In the `__getitem()__` call above, you already implemented a method to take a subset of a matrix without copying (but just modifying strides).  But how would you actually go about _setting_ elements of this array?  In virtually all the other settings in this homework, we call `.compact()` before setting items in an output array, but in this case it doesn't work: calling `.compact()` would copy the subset array to some new memory, but the whole point of the `__setitem__()` call is that we want to modify existing memory.\n",
    "\n",
    "If you think about this for a while, you'll realize that the answer looks a lot like `.compact()` but in reverse.  If we want to assign a (itself already compact) right hand side matrix to a `__getitem()__` results, then we need to here like `shape` and `stride` be those fields of the _output_ matrix.  Then we could implement the setitem call as follows\n",
    "\n",
    "虽然`setitem`功能看起来有些不同，但实际上与`Compact()`密切相关。`__setitem()__`是在设置对象的某些元素时调用的Python函数，即，\n",
    "\n",
    "```python\n",
    "A[::2,4:5,9] = 0 # 或 = some_other_array\n",
    "```\n",
    "\n",
    "你会如何实现这个？在上面的`__getitem()__`调用中，你已经实现了一个方法来获取矩阵的子集而不是复制（只是修改步幅）。但是你实际上会如何去_设置_这个数组的元素？在本次作业的几乎所有其他设置中，我们在设置输出数组中的项之前调用`.compact()`，但在这种情况下不起作用：调用`.compact()`将复制子集数组到一些新的内存，但`__setitem__()`调用的整个重点是我们想要修改现有的内存。\n",
    "\n",
    "如果你仔细考虑一下，你会意识到答案看起来很像`.compact()`但是相反。如果我们想要将一个（本身已经被压缩的）右侧矩阵赋给`__getitem()__`的结果，那么我们需要在这里像`形状`和`步幅`这样的字段是输出矩阵的。然后我们可以实现setitem调用如下：\n",
    "\n",
    "---\n",
    "\n",
    "```c++\n",
    "cnt = 0;\n",
    "for (size_t i = 0; i < shape[0]; i++)\n",
    "    for (size_t j = 0; j < shape[1]; j++)\n",
    "        for (size_t k = 0; k < shape[2]; k++)\n",
    "            out[strides[0]*i + strides[1]*j + strides[2]*k] = in[cnt++]; // or \"= val;\"\n",
    "```\n",
    "Due to this similarity, if you implement your indexing strategy in a modular fashion, you'll be able to reuse it between the `Compact()` call and the `EwiseSetitem()` and `ScalarSetitem()` calls.\n",
    "\n",
    "由于这种相似性，如果你以模块化的方式实施你的索引策略，你就能在`Compact()`调用以及`EwiseSetitem()`和`ScalarSetitem()`调用之间重复使用它。"
   ]
  },
  {
   "cell_type": "code",
   "execution_count": 18,
   "metadata": {
    "id": "758969a1"
   },
   "outputs": [
    {
     "name": "stdout",
     "output_type": "stream",
     "text": [
      "\u001b[1m============================= test session starts ==============================\u001b[0m\n",
      "platform darwin -- Python 3.11.5, pytest-7.4.3, pluggy-1.3.0 -- /Users/genghaozhe/anaconda3/envs/dlsys/bin/python3\n",
      "cachedir: .pytest_cache\n",
      "rootdir: /Users/genghaozhe/Desktop/Course/DLsys/homework/hw3\n",
      "collected 138 items / 123 deselected / 15 selected                             \u001b[0m\n",
      "\n",
      "tests/hw3/test_ndarray.py::test_compact[cpu-transpose] \u001b[32mPASSED\u001b[0m\u001b[32m            [  6%]\u001b[0m\n",
      "tests/hw3/test_ndarray.py::test_compact[cpu-broadcast_to] \u001b[32mPASSED\u001b[0m\u001b[32m         [ 13%]\u001b[0m\n",
      "tests/hw3/test_ndarray.py::test_compact[cpu-reshape1] \u001b[32mPASSED\u001b[0m\u001b[32m             [ 20%]\u001b[0m\n",
      "tests/hw3/test_ndarray.py::test_compact[cpu-reshape2] \u001b[32mPASSED\u001b[0m\u001b[32m             [ 26%]\u001b[0m\n",
      "tests/hw3/test_ndarray.py::test_compact[cpu-reshape3] \u001b[32mPASSED\u001b[0m\u001b[32m             [ 33%]\u001b[0m\n",
      "tests/hw3/test_ndarray.py::test_compact[cpu-getitem1] \u001b[32mPASSED\u001b[0m\u001b[32m             [ 40%]\u001b[0m\n",
      "tests/hw3/test_ndarray.py::test_compact[cpu-getitem2] \u001b[32mPASSED\u001b[0m\u001b[32m             [ 46%]\u001b[0m\n",
      "tests/hw3/test_ndarray.py::test_compact[cpu-transposegetitem] \u001b[32mPASSED\u001b[0m\u001b[32m     [ 53%]\u001b[0m\n",
      "tests/hw3/test_ndarray.py::test_setitem_ewise[cpu-params0] \u001b[32mPASSED\u001b[0m\u001b[32m        [ 60%]\u001b[0m\n",
      "tests/hw3/test_ndarray.py::test_setitem_ewise[cpu-params1] \u001b[32mPASSED\u001b[0m\u001b[32m        [ 66%]\u001b[0m\n",
      "tests/hw3/test_ndarray.py::test_setitem_ewise[cpu-params2] \u001b[32mPASSED\u001b[0m\u001b[32m        [ 73%]\u001b[0m\n",
      "tests/hw3/test_ndarray.py::test_setitem_scalar[cpu-params0] \u001b[32mPASSED\u001b[0m\u001b[32m       [ 80%]\u001b[0m\n",
      "tests/hw3/test_ndarray.py::test_setitem_scalar[cpu-params1] \u001b[32mPASSED\u001b[0m\u001b[32m       [ 86%]\u001b[0m\n",
      "tests/hw3/test_ndarray.py::test_setitem_scalar[cpu-params2] \u001b[32mPASSED\u001b[0m\u001b[32m       [ 93%]\u001b[0m\n",
      "tests/hw3/test_ndarray.py::test_setitem_scalar[cpu-params3] \u001b[32mPASSED\u001b[0m\u001b[32m       [100%]\u001b[0m\n",
      "\n",
      "\u001b[32m====================== \u001b[32m\u001b[1m15 passed\u001b[0m, \u001b[33m123 deselected\u001b[0m\u001b[32m in 0.41s\u001b[0m\u001b[32m ======================\u001b[0m\n"
     ]
    }
   ],
   "source": [
    "!python3 -m pytest -v -k \"(compact or setitem) and cpu\""
   ]
  },
  {
   "cell_type": "code",
   "execution_count": 8,
   "metadata": {
    "id": "74c98f6c"
   },
   "outputs": [],
   "source": [
    "# !python3 -m mugrade submit \"YOUR KEY HERE\" -k \"ndarray_cpu_compact_setitem\""
   ]
  },
  {
   "cell_type": "markdown",
   "metadata": {
    "id": "9df3e8fb"
   },
   "source": [
    "## Part 3: CPU Backend - Elementwise and scalar operations\n",
    "\n",
    "Implement the following functions in `ndarray_backend_cpu.cc`:\n",
    "\n",
    "* `EwiseMul()`, `ScalarMul()`\n",
    "* `EwiseDiv()`, `ScalarDiv()`\n",
    "* `ScalarPower()`\n",
    "* `EwiseMaximum()`, `ScalarMaximum()`\n",
    "* `EwiseEq()`, `ScalarEq()`\n",
    "* `EwiseGe()`, `ScalarGe()`\n",
    "* `EwiseLog()`\n",
    "* `EwiseExp()`\n",
    "* `EwiseTanh()`\n",
    "\n",
    "You can look at the included\n",
    "`EwiseAdd()` and `ScalarAdd()` functions (plus the invocations from `NDArray` in order to understand the required format of these functions.\n",
    "\n",
    "Note that unlike the remaining functions mentioned here, we do not include function stubs for each of these functions.  This is because, while you can implement these naively just through implementing each function separately, though this will end up with a lot of duplicated code.  You're welcome to use e.g., C++ templates or macros to address this problem (but these would only be exposed internally, not to the external interface).\n",
    "\n",
    "**Note**: Remember to register functions  in the pybind module after finishing your implementations."
   ]
  },
  {
   "cell_type": "code",
   "execution_count": 19,
   "metadata": {
    "id": "22943d08"
   },
   "outputs": [
    {
     "name": "stdout",
     "output_type": "stream",
     "text": [
      "\u001b[1m============================= test session starts ==============================\u001b[0m\n",
      "platform darwin -- Python 3.11.5, pytest-7.4.3, pluggy-1.3.0 -- /Users/genghaozhe/anaconda3/envs/dlsys/bin/python3\n",
      "cachedir: .pytest_cache\n",
      "rootdir: /Users/genghaozhe/Desktop/Course/DLsys/homework/hw3\n",
      "collected 138 items / 115 deselected / 23 selected                             \u001b[0m\n",
      "\n",
      "tests/hw3/test_ndarray.py::test_ewise_fn[cpu-shape0-multiply] \u001b[32mPASSED\u001b[0m\u001b[32m     [  4%]\u001b[0m\n",
      "tests/hw3/test_ndarray.py::test_ewise_fn[cpu-shape0-divide] \u001b[32mPASSED\u001b[0m\u001b[32m       [  8%]\u001b[0m\n",
      "tests/hw3/test_ndarray.py::test_ewise_fn[cpu-shape0-add] \u001b[32mPASSED\u001b[0m\u001b[32m          [ 13%]\u001b[0m\n",
      "tests/hw3/test_ndarray.py::test_ewise_fn[cpu-shape0-subtract] \u001b[32mPASSED\u001b[0m\u001b[32m     [ 17%]\u001b[0m\n",
      "tests/hw3/test_ndarray.py::test_ewise_fn[cpu-shape0-equal] \u001b[32mPASSED\u001b[0m\u001b[32m        [ 21%]\u001b[0m\n",
      "tests/hw3/test_ndarray.py::test_ewise_fn[cpu-shape0-greater_than] \u001b[32mPASSED\u001b[0m\u001b[32m [ 26%]\u001b[0m\n",
      "tests/hw3/test_ndarray.py::test_ewise_fn[cpu-shape1-multiply] \u001b[32mPASSED\u001b[0m\u001b[32m     [ 30%]\u001b[0m\n",
      "tests/hw3/test_ndarray.py::test_ewise_fn[cpu-shape1-divide] \u001b[32mPASSED\u001b[0m\u001b[32m       [ 34%]\u001b[0m\n",
      "tests/hw3/test_ndarray.py::test_ewise_fn[cpu-shape1-add] \u001b[32mPASSED\u001b[0m\u001b[32m          [ 39%]\u001b[0m\n",
      "tests/hw3/test_ndarray.py::test_ewise_fn[cpu-shape1-subtract] \u001b[32mPASSED\u001b[0m\u001b[32m     [ 43%]\u001b[0m\n",
      "tests/hw3/test_ndarray.py::test_ewise_fn[cpu-shape1-equal] \u001b[32mPASSED\u001b[0m\u001b[32m        [ 47%]\u001b[0m\n",
      "tests/hw3/test_ndarray.py::test_ewise_fn[cpu-shape1-greater_than] \u001b[32mPASSED\u001b[0m\u001b[32m [ 52%]\u001b[0m\n",
      "tests/hw3/test_ndarray.py::test_ewise_max[cpu-shape0] \u001b[32mPASSED\u001b[0m\u001b[32m             [ 56%]\u001b[0m\n",
      "tests/hw3/test_ndarray.py::test_ewise_max[cpu-shape1] \u001b[32mPASSED\u001b[0m\u001b[32m             [ 60%]\u001b[0m\n",
      "tests/hw3/test_ndarray.py::test_scalar_mul[cpu] \u001b[32mPASSED\u001b[0m\u001b[32m                   [ 65%]\u001b[0m\n",
      "tests/hw3/test_ndarray.py::test_scalar_div[cpu] \u001b[32mPASSED\u001b[0m\u001b[32m                   [ 69%]\u001b[0m\n",
      "tests/hw3/test_ndarray.py::test_scalar_power[cpu] \u001b[32mPASSED\u001b[0m\u001b[32m                 [ 73%]\u001b[0m\n",
      "tests/hw3/test_ndarray.py::test_scalar_maximum[cpu] \u001b[32mPASSED\u001b[0m\u001b[33m               [ 78%]\u001b[0m\n",
      "tests/hw3/test_ndarray.py::test_scalar_eq[cpu] \u001b[32mPASSED\u001b[0m\u001b[33m                    [ 82%]\u001b[0m\n",
      "tests/hw3/test_ndarray.py::test_scalar_ge[cpu] \u001b[32mPASSED\u001b[0m\u001b[33m                    [ 86%]\u001b[0m\n",
      "tests/hw3/test_ndarray.py::test_ewise_log[cpu] \u001b[32mPASSED\u001b[0m\u001b[33m                    [ 91%]\u001b[0m\n",
      "tests/hw3/test_ndarray.py::test_ewise_exp[cpu] \u001b[32mPASSED\u001b[0m\u001b[33m                    [ 95%]\u001b[0m\n",
      "tests/hw3/test_ndarray.py::test_ewise_tanh[cpu] \u001b[32mPASSED\u001b[0m\u001b[33m                   [100%]\u001b[0m\n",
      "\n",
      "\u001b[33m=============================== warnings summary ===============================\u001b[0m\n",
      "tests/hw3/test_ndarray.py::test_scalar_power[cpu]\n",
      "  /Users/genghaozhe/Desktop/Course/DLsys/homework/hw3/tests/hw3/test_ndarray.py:391: RuntimeWarning: invalid value encountered in power\n",
      "    np.power(A, 0.5), (B**0.5).numpy(), atol=1e-5, rtol=1e-5\n",
      "\n",
      "-- Docs: https://docs.pytest.org/en/stable/how-to/capture-warnings.html\n",
      "\u001b[33m================ \u001b[32m23 passed\u001b[0m, \u001b[33m\u001b[1m115 deselected\u001b[0m, \u001b[33m\u001b[1m1 warning\u001b[0m\u001b[33m in 0.37s\u001b[0m\u001b[33m =================\u001b[0m\n"
     ]
    }
   ],
   "source": [
    "!python3 -m pytest -v -k \"(ewise_fn or ewise_max or log or exp or tanh or (scalar and not setitem)) and cpu\""
   ]
  },
  {
   "cell_type": "code",
   "execution_count": 10,
   "metadata": {
    "id": "fddba8d9"
   },
   "outputs": [],
   "source": [
    "# !python3 -m mugrade submit \"YOUR KEY HERE\" -k \"ndarray_cpu_ops\""
   ]
  },
  {
   "cell_type": "markdown",
   "metadata": {
    "id": "7be9fe7c"
   },
   "source": [
    "## Part 4: CPU Backend - Reductions\n",
    "\n",
    "\n",
    "Implement the following functions in `ndarray_backend_cpu.cc`:\n",
    "\n",
    "* `ReduceMax()`\n",
    "* `ReduceSum()`\n",
    "\n",
    "In general, the reduction functions `.max()` and `.sum()` in NDArray take the max or sum across a specified axis specified by the `axis` argument (or across the entire array when `axis=None`); note that we don't support axis being a set of axes, though this wouldn't be too hard to add if you desired (but it's not in the interface you should implement for the homework).\n",
    "\n",
    "Because summing over individual axes can be a bit tricky, even for compact arrays, these functions (in Python) in Python simplify things by permuting the last axis to the be the one reduced over (this is what the `reduce_view_out()` function in NDArray does), then compacting the array.  So for your `ReduceMax()` and `ReduceSum()` functions you implement in C++, you can assume that both the input and output arrays are contiguous in memory, and you want to just reduce over contiguous elements of size `reduce_size` as passed to the C++ functions. "
   ]
  },
  {
   "cell_type": "code",
   "execution_count": 20,
   "metadata": {
    "id": "de5382b3"
   },
   "outputs": [
    {
     "name": "stdout",
     "output_type": "stream",
     "text": [
      "\u001b[1m============================= test session starts ==============================\u001b[0m\n",
      "platform darwin -- Python 3.11.5, pytest-7.4.3, pluggy-1.3.0 -- /Users/genghaozhe/anaconda3/envs/dlsys/bin/python3\n",
      "cachedir: .pytest_cache\n",
      "rootdir: /Users/genghaozhe/Desktop/Course/DLsys/homework/hw3\n",
      "collected 138 items / 130 deselected / 8 selected                              \u001b[0m\n",
      "\n",
      "tests/hw3/test_ndarray.py::test_reduce_sum[params0-cpu] \u001b[32mPASSED\u001b[0m\u001b[32m           [ 12%]\u001b[0m\n",
      "tests/hw3/test_ndarray.py::test_reduce_sum[params1-cpu] \u001b[32mPASSED\u001b[0m\u001b[32m           [ 25%]\u001b[0m\n",
      "tests/hw3/test_ndarray.py::test_reduce_sum[params2-cpu] \u001b[32mPASSED\u001b[0m\u001b[32m           [ 37%]\u001b[0m\n",
      "tests/hw3/test_ndarray.py::test_reduce_sum[params3-cpu] \u001b[32mPASSED\u001b[0m\u001b[32m           [ 50%]\u001b[0m\n",
      "tests/hw3/test_ndarray.py::test_reduce_max[params0-cpu] \u001b[32mPASSED\u001b[0m\u001b[32m           [ 62%]\u001b[0m\n",
      "tests/hw3/test_ndarray.py::test_reduce_max[params1-cpu] \u001b[32mPASSED\u001b[0m\u001b[32m           [ 75%]\u001b[0m\n",
      "tests/hw3/test_ndarray.py::test_reduce_max[params2-cpu] \u001b[32mPASSED\u001b[0m\u001b[32m           [ 87%]\u001b[0m\n",
      "tests/hw3/test_ndarray.py::test_reduce_max[params3-cpu] \u001b[32mPASSED\u001b[0m\u001b[32m           [100%]\u001b[0m\n",
      "\n",
      "\u001b[32m====================== \u001b[32m\u001b[1m8 passed\u001b[0m, \u001b[33m130 deselected\u001b[0m\u001b[32m in 0.44s\u001b[0m\u001b[32m =======================\u001b[0m\n"
     ]
    }
   ],
   "source": [
    "!python3 -m pytest -v -k \"reduce and cpu\""
   ]
  },
  {
   "cell_type": "code",
   "execution_count": 4,
   "metadata": {
    "id": "a1f1f484"
   },
   "outputs": [],
   "source": [
    "# !python3 -m mugrade submit \"YOUR KEY HERE\" -k \"ndarray_cpu_reductions\""
   ]
  },
  {
   "cell_type": "markdown",
   "metadata": {
    "id": "35e1e9c0"
   },
   "source": [
    "## Part 5: CPU Backend - Matrix multiplication\n",
    "\n",
    "Implement the following functions in `ndarray_backend_cpu.cc`:\n",
    "\n",
    "* `Matmul()`\n",
    "* `MatmulTiled()`\n",
    "* `AlignedDot()`\n",
    "\n",
    "The first implementation, `Matmul()` can use the naive three-nested-for-loops algorithm for matrix multiplication.  However, the `MatmulTiled()` performs the same matrix multiplication on memory laid out in tiled form, i.e., as a contiguous 4D array\n",
    "```c++\n",
    "float[M/TILE][N/TILE][TILE][TILE];\n",
    "```\n",
    "Note that the Python `__matmul__` code already does the conversion to tiled form when all sizes of the matrix multiplication are divisible by `TILE`, so your code just needs to implement the multiplication in this form.  In order to make the methods efficient, you will want to make use of (after you implement it), the `AlignedDot()` function, which will enable the compiler to efficiently make use of vector operations and proper caching.  The output matrix will also be in the tiled form above, and the Python backend will take care of the conversion to a normal 2D array.\n",
    "\n",
    "Note that in order to get the most speedup possible from you tiled version, you may want to use the clang compiler with colab instead of gcc.  To do this, run the following command before building your code."
   ]
  },
  {
   "cell_type": "code",
   "execution_count": 21,
   "metadata": {
    "id": "28771449"
   },
   "outputs": [
    {
     "name": "stdout",
     "output_type": "stream",
     "text": [
      "\u001b[1m============================= test session starts ==============================\u001b[0m\n",
      "platform darwin -- Python 3.11.5, pytest-7.4.3, pluggy-1.3.0 -- /Users/genghaozhe/anaconda3/envs/dlsys/bin/python3\n",
      "cachedir: .pytest_cache\n",
      "rootdir: /Users/genghaozhe/Desktop/Course/DLsys/homework/hw3\n",
      "collected 138 items / 128 deselected / 10 selected                             \u001b[0m\n",
      "\n",
      "tests/hw3/test_ndarray.py::test_matmul[16-16-16-cpu] \u001b[32mPASSED\u001b[0m\u001b[32m              [ 10%]\u001b[0m\n",
      "tests/hw3/test_ndarray.py::test_matmul[8-8-8-cpu] \u001b[32mPASSED\u001b[0m\u001b[32m                 [ 20%]\u001b[0m\n",
      "tests/hw3/test_ndarray.py::test_matmul[1-2-3-cpu] \u001b[32mPASSED\u001b[0m\u001b[32m                 [ 30%]\u001b[0m\n",
      "tests/hw3/test_ndarray.py::test_matmul[3-4-5-cpu] \u001b[32mPASSED\u001b[0m\u001b[32m                 [ 40%]\u001b[0m\n",
      "tests/hw3/test_ndarray.py::test_matmul[5-4-3-cpu] \u001b[32mPASSED\u001b[0m\u001b[32m                 [ 50%]\u001b[0m\n",
      "tests/hw3/test_ndarray.py::test_matmul[64-64-64-cpu] \u001b[32mPASSED\u001b[0m\u001b[32m              [ 60%]\u001b[0m\n",
      "tests/hw3/test_ndarray.py::test_matmul[72-72-72-cpu] \u001b[32mPASSED\u001b[0m\u001b[32m              [ 70%]\u001b[0m\n",
      "tests/hw3/test_ndarray.py::test_matmul[72-73-74-cpu] \u001b[32mPASSED\u001b[0m\u001b[32m              [ 80%]\u001b[0m\n",
      "tests/hw3/test_ndarray.py::test_matmul[74-73-72-cpu] \u001b[32mPASSED\u001b[0m\u001b[32m              [ 90%]\u001b[0m\n",
      "tests/hw3/test_ndarray.py::test_matmul[128-128-128-cpu] \u001b[32mPASSED\u001b[0m\u001b[32m           [100%]\u001b[0m\n",
      "\n",
      "\u001b[32m====================== \u001b[32m\u001b[1m10 passed\u001b[0m, \u001b[33m128 deselected\u001b[0m\u001b[32m in 0.40s\u001b[0m\u001b[32m ======================\u001b[0m\n"
     ]
    }
   ],
   "source": [
    "!python3 -m pytest -v -k \"matmul and cpu\""
   ]
  },
  {
   "cell_type": "code",
   "execution_count": 6,
   "metadata": {
    "id": "5e0a7443"
   },
   "outputs": [],
   "source": [
    "# !python3 -m mugrade submit \"YOUR KEY HERE\" -k \"ndarray_cpu_matmul\""
   ]
  },
  {
   "cell_type": "code",
   "execution_count": 7,
   "metadata": {
    "id": "0d3e131e"
   },
   "outputs": [
    {
     "name": "stdout",
     "output_type": "stream",
     "text": [
      "-- Found pybind11: /home/haze/anaconda3/envs/dlsys/lib/python3.11/site-packages/pybind11/include (found version \"2.11.1\")\n",
      "-- Found cuda, building cuda backend\n",
      "Tue Mar  5 23:58:43 2024       \n",
      "+-----------------------------------------------------------------------------+\n",
      "| NVIDIA-SMI 525.125.06   Driver Version: 537.13       CUDA Version: 12.2     |\n",
      "|-------------------------------+----------------------+----------------------+\n",
      "| GPU  Name        Persistence-M| Bus-Id        Disp.A | Volatile Uncorr. ECC |\n",
      "| Fan  Temp  Perf  Pwr:Usage/Cap|         Memory-Usage | GPU-Util  Compute M. |\n",
      "|                               |                      |               MIG M. |\n",
      "|===============================+======================+======================|\n",
      "|   0  NVIDIA GeForce ...  On   | 00000000:01:00.0  On |                  N/A |\n",
      "| 30%   30C    P8    13W / 180W |   2555MiB /  8192MiB |      0%      Default |\n",
      "|                               |                      |                  N/A |\n",
      "+-------------------------------+----------------------+----------------------+\n",
      "                                                                               \n",
      "+-----------------------------------------------------------------------------+\n",
      "| Processes:                                                                  |\n",
      "|  GPU   GI   CI        PID   Type   Process name                  GPU Memory |\n",
      "|        ID   ID                                                   Usage      |\n",
      "|=============================================================================|\n",
      "|    0   N/A  N/A        22      G   /Xwayland                       N/A      |\n",
      "+-----------------------------------------------------------------------------+\n",
      "-- Autodetected CUDA architecture(s):  8.6\n",
      "-- Configuring done\n",
      "-- Generating done\n",
      "-- Build files have been written to: /home/haze/Code/DLsys/homework/hw3/build\n",
      "make[1]: Entering directory '/home/haze/Code/DLsys/homework/hw3/build'\n",
      "make[2]: Entering directory '/home/haze/Code/DLsys/homework/hw3/build'\n",
      "make[3]: Entering directory '/home/haze/Code/DLsys/homework/hw3/build'\n",
      "\u001b[35m\u001b[1mConsolidate compiler generated dependencies of target ndarray_backend_cpu\u001b[0m\n",
      "make[3]: Leaving directory '/home/haze/Code/DLsys/homework/hw3/build'\n",
      "make[3]: Entering directory '/home/haze/Code/DLsys/homework/hw3/build'\n",
      "[ 25%] \u001b[32mBuilding CXX object CMakeFiles/ndarray_backend_cpu.dir/src/ndarray_backend_cpu.cc.o\u001b[0m\n",
      "\u001b[01m\u001b[K/home/haze/Code/DLsys/homework/hw3/src/ndarray_backend_cpu.cc:\u001b[m\u001b[K In function ‘\u001b[01m\u001b[Kvoid needle::cpu::EwiseMul(const needle::cpu::AlignedArray&, const needle::cpu::AlignedArray&, needle::cpu::AlignedArray*)\u001b[m\u001b[K’:\n",
      "\u001b[01m\u001b[K/home/haze/Code/DLsys/homework/hw3/src/ndarray_backend_cpu.cc:224:63:\u001b[m\u001b[K \u001b[01;31m\u001b[Kerror: \u001b[m\u001b[Kno matching function for call to ‘\u001b[01m\u001b[Kstd::multiplies<float>::multiplies(needle::cpu::scalar_t&, needle::cpu::scalar_t&)\u001b[m\u001b[K’\n",
      "  224 |     out->ptr[i] = std::multiplies<scalar_t>(a.ptr[i], b.ptr[i]\u001b[01;31m\u001b[K)\u001b[m\u001b[K;\n",
      "      |                                                               \u001b[01;31m\u001b[K^\u001b[m\u001b[K\n",
      "In file included from \u001b[01m\u001b[K/usr/include/c++/11/bits/forward_list.h:39\u001b[m\u001b[K,\n",
      "                 from \u001b[01m\u001b[K/usr/include/c++/11/forward_list:38\u001b[m\u001b[K,\n",
      "                 from \u001b[01m\u001b[K/home/haze/anaconda3/envs/dlsys/lib/python3.11/site-packages/pybind11/include/pybind11/detail/common.h:306\u001b[m\u001b[K,\n",
      "                 from \u001b[01m\u001b[K/home/haze/anaconda3/envs/dlsys/lib/python3.11/site-packages/pybind11/include/pybind11/attr.h:13\u001b[m\u001b[K,\n",
      "                 from \u001b[01m\u001b[K/home/haze/anaconda3/envs/dlsys/lib/python3.11/site-packages/pybind11/include/pybind11/detail/class.h:12\u001b[m\u001b[K,\n",
      "                 from \u001b[01m\u001b[K/home/haze/anaconda3/envs/dlsys/lib/python3.11/site-packages/pybind11/include/pybind11/pybind11.h:13\u001b[m\u001b[K,\n",
      "                 from \u001b[01m\u001b[K/home/haze/anaconda3/envs/dlsys/lib/python3.11/site-packages/pybind11/include/pybind11/numpy.h:12\u001b[m\u001b[K,\n",
      "                 from \u001b[01m\u001b[K/home/haze/Code/DLsys/homework/hw3/src/ndarray_backend_cpu.cc:1\u001b[m\u001b[K:\n",
      "\u001b[01m\u001b[K/usr/include/c++/11/bits/stl_function.h:201:12:\u001b[m\u001b[K \u001b[01;36m\u001b[Knote: \u001b[m\u001b[Kcandidate: ‘\u001b[01m\u001b[Kconstexpr std::multiplies<float>::multiplies()\u001b[m\u001b[K’\n",
      "  201 |     struct \u001b[01;36m\u001b[Kmultiplies\u001b[m\u001b[K : public binary_function<_Tp, _Tp, _Tp>\n",
      "      |            \u001b[01;36m\u001b[K^~~~~~~~~~\u001b[m\u001b[K\n",
      "\u001b[01m\u001b[K/usr/include/c++/11/bits/stl_function.h:201:12:\u001b[m\u001b[K \u001b[01;36m\u001b[Knote: \u001b[m\u001b[K  candidate expects 0 arguments, 2 provided\n",
      "\u001b[01m\u001b[K/usr/include/c++/11/bits/stl_function.h:201:12:\u001b[m\u001b[K \u001b[01;36m\u001b[Knote: \u001b[m\u001b[Kcandidate: ‘\u001b[01m\u001b[Kconstexpr std::multiplies<float>::multiplies(const std::multiplies<float>&)\u001b[m\u001b[K’\n",
      "\u001b[01m\u001b[K/usr/include/c++/11/bits/stl_function.h:201:12:\u001b[m\u001b[K \u001b[01;36m\u001b[Knote: \u001b[m\u001b[K  candidate expects 1 argument, 2 provided\n",
      "\u001b[01m\u001b[K/usr/include/c++/11/bits/stl_function.h:201:12:\u001b[m\u001b[K \u001b[01;36m\u001b[Knote: \u001b[m\u001b[Kcandidate: ‘\u001b[01m\u001b[Kconstexpr std::multiplies<float>::multiplies(std::multiplies<float>&&)\u001b[m\u001b[K’\n",
      "\u001b[01m\u001b[K/usr/include/c++/11/bits/stl_function.h:201:12:\u001b[m\u001b[K \u001b[01;36m\u001b[Knote: \u001b[m\u001b[K  candidate expects 1 argument, 2 provided\n",
      "make[3]: *** [CMakeFiles/ndarray_backend_cpu.dir/build.make:76: CMakeFiles/ndarray_backend_cpu.dir/src/ndarray_backend_cpu.cc.o] Error 1\n",
      "make[3]: Leaving directory '/home/haze/Code/DLsys/homework/hw3/build'\n",
      "make[2]: *** [CMakeFiles/Makefile2:85: CMakeFiles/ndarray_backend_cpu.dir/all] Error 2\n",
      "make[2]: Leaving directory '/home/haze/Code/DLsys/homework/hw3/build'\n",
      "make[1]: *** [Makefile:91: all] Error 2\n",
      "make[1]: Leaving directory '/home/haze/Code/DLsys/homework/hw3/build'\n",
      "make: *** [Makefile:9: lib] Error 2\n"
     ]
    }
   ],
   "source": [
    "!export CXX=/usr/bin/clang++ && make"
   ]
  },
  {
   "cell_type": "markdown",
   "metadata": {
    "id": "c44486db"
   },
   "source": [
    "## Part 6: CUDA Backend - Compact and setitem\n",
    "\n",
    "Implement the following functions in `ndarray_backend_cuda.cu`:\n",
    "* `Compact()`\n",
    "* `EwiseSetitem()`\n",
    "* `ScalarSetitem()`\n",
    "\n",
    "\n",
    "For this portion, you'll implement the compact and setitem calls in the CUDA backend.  This is fairly similar to the C++ version, however, depending on how you implemented that function, there could also be some substantial differences.  We specifically want to highlight a few differences between the C++ and the CUDA implementations, however.\n",
    "\n",
    "First, as with the example functions implemented in the CUDA backend code, for all the functions above you will actually want to implement two functions: the basic functions listed above that you will call from Python, and the corresponding CUDA kernels that will actually perform the computation.  For the most part, we only provide the prototype for the \"base\" function in the `ndarray_backend_cuda.cu` file, and you will need to define and implement the kernel function yourself.  However, to see how these work, for the `Compact()` call we are providing you with the _complete_ `Compact()` call, and the function prototype for the `CompactKernel()` call.\n",
    "\n",
    "One thing you may notice is the seemingly odd use of a `CudaVec` struct, which is a struct used to pass shape/stride parameters.  In the C++ version we used the STL `std::vector` variables to store these inputs (and the same is done in the base `Compact()` call, but CUDA kernels cannot operation on STL vectors, so something else is needed).  Furthermore, although we _could_ convert the vectors to normal CUDA arrays, this would be rather cumbersome, as we would need to call `cudaMalloc()`, pass the parameters as integer pointers, then free them after the calls.  Of course such memory management is needed for the actual underlying data in the array, but it seems like overkill to do it for just passing a variable-sized small tuple of shape/stride values.  The solution is to create a struct that has a \"maximize\" size for the number of dimensions an array can have, and then just store the actual shape/stride data in the first entries of these fields.  This is all done by the included `CudaVec` struct and `VecToCuda()` function, and you can just use these as provided for all the CUDA kernels that require passing shape/strides to the kernel itself.\n",
    "\n",
    "The other (more conceptual) big difference between the C++ and CUDA implementations of `Compact()` is that in C++ you will typically loop over the elements of the non-compact array sequentially, which allows you to perform some optimizations with respect to computing the corresponding indices between the compact and non-compact arrays.  In CUDA, you cannot do this, and will need to implement code that can directly map from an index in the compact array to one in the strided array.\n",
    "\n",
    "As before, we recommend you implement your code in such as way that it can easily be re-used between the `Compact()`, and `Setitem()` calls.  As a short note, remember that if you want to call a (separate, non-kernel) function from kernel code, you need to define it as a `__device__` function.\n"
   ]
  },
  {
   "cell_type": "code",
   "execution_count": 8,
   "metadata": {
    "id": "480d127f"
   },
   "outputs": [
    {
     "name": "stdout",
     "output_type": "stream",
     "text": [
      "\u001b[1m============================= test session starts ==============================\u001b[0m\n",
      "platform linux -- Python 3.11.7, pytest-7.4.4, pluggy-1.3.0 -- /home/haze/anaconda3/envs/dlsys/bin/python3\n",
      "cachedir: .pytest_cache\n",
      "rootdir: /home/haze/Code/DLsys/homework/hw3\n",
      "plugins: anyio-4.2.0\n",
      "collected 0 items / 1 error                                                    \u001b[0m\n",
      "\n",
      "==================================== ERRORS ====================================\n",
      "\u001b[31m\u001b[1m__________________ ERROR collecting tests/hw3/test_ndarray.py __________________\u001b[0m\n",
      "\u001b[31mImportError while importing test module '/home/haze/Code/DLsys/homework/hw3/tests/hw3/test_ndarray.py'.\n",
      "Hint: make sure your test modules/packages have valid Python names.\n",
      "Traceback:\n",
      "\u001b[1m\u001b[31m/home/haze/anaconda3/envs/dlsys/lib/python3.11/importlib/__init__.py\u001b[0m:126: in import_module\n",
      "    \u001b[94mreturn\u001b[39;49;00m _bootstrap._gcd_import(name[level:], package, level)\u001b[90m\u001b[39;49;00m\n",
      "\u001b[1m\u001b[31mtests/hw3/test_ndarray.py\u001b[0m:4: in <module>\n",
      "    \u001b[94mimport\u001b[39;49;00m \u001b[04m\u001b[96mneedle\u001b[39;49;00m \u001b[94mas\u001b[39;49;00m \u001b[04m\u001b[96mndl\u001b[39;49;00m\u001b[90m\u001b[39;49;00m\n",
      "\u001b[1m\u001b[31mE   ModuleNotFoundError: No module named 'needle'\u001b[0m\u001b[0m\n",
      "\u001b[36m\u001b[1m=========================== short test summary info ============================\u001b[0m\n",
      "\u001b[31mERROR\u001b[0m tests/hw3/test_ndarray.py\n",
      "!!!!!!!!!!!!!!!!!!!! Interrupted: 1 error during collection !!!!!!!!!!!!!!!!!!!!\n",
      "\u001b[31m=============================== \u001b[31m\u001b[1m1 error\u001b[0m\u001b[31m in 0.16s\u001b[0m\u001b[31m ===============================\u001b[0m\n"
     ]
    }
   ],
   "source": [
    "!python3 -m pytest -v -k \"(compact or setitem) and cuda\""
   ]
  },
  {
   "cell_type": "code",
   "execution_count": 9,
   "metadata": {
    "id": "98a83634"
   },
   "outputs": [
    {
     "name": "stdout",
     "output_type": "stream",
     "text": [
      "submit\n",
      "\u001b[1m============================= test session starts ==============================\u001b[0m\n",
      "platform linux -- Python 3.11.7, pytest-7.4.4, pluggy-1.3.0\n",
      "rootdir: /home/haze/Code/DLsys/homework/hw3\n",
      "plugins: anyio-4.2.0\n",
      "collected 0 items / 1 error                                                    \u001b[0m\n",
      "\n",
      "==================================== ERRORS ====================================\n",
      "\u001b[31m\u001b[1m__________________ ERROR collecting tests/hw3/test_ndarray.py __________________\u001b[0m\n",
      "\u001b[31mImportError while importing test module '/home/haze/Code/DLsys/homework/hw3/tests/hw3/test_ndarray.py'.\n",
      "Hint: make sure your test modules/packages have valid Python names.\n",
      "Traceback:\n",
      "\u001b[1m\u001b[31m/home/haze/anaconda3/envs/dlsys/lib/python3.11/importlib/__init__.py\u001b[0m:126: in import_module\n",
      "    \u001b[94mreturn\u001b[39;49;00m _bootstrap._gcd_import(name[level:], package, level)\u001b[90m\u001b[39;49;00m\n",
      "\u001b[1m\u001b[31mtests/hw3/test_ndarray.py\u001b[0m:4: in <module>\n",
      "    \u001b[94mimport\u001b[39;49;00m \u001b[04m\u001b[96mneedle\u001b[39;49;00m \u001b[94mas\u001b[39;49;00m \u001b[04m\u001b[96mndl\u001b[39;49;00m\u001b[90m\u001b[39;49;00m\n",
      "\u001b[1m\u001b[31mE   ModuleNotFoundError: No module named 'needle'\u001b[0m\u001b[0m\n",
      "\u001b[36m\u001b[1m=========================== short test summary info ============================\u001b[0m\n",
      "\u001b[31mERROR\u001b[0m tests/hw3/test_ndarray.py\n",
      "!!!!!!!!!!!!!!!!!!!! Interrupted: 1 error during collection !!!!!!!!!!!!!!!!!!!!\n",
      "\u001b[31m=============================== \u001b[31m\u001b[1m1 error\u001b[0m\u001b[31m in 0.06s\u001b[0m\u001b[31m ===============================\u001b[0m\n"
     ]
    }
   ],
   "source": [
    "!python3 -m mugrade submit \"YOUR KEY HERE\" -k \"ndarray_cuda_compact_setitem\""
   ]
  },
  {
   "cell_type": "markdown",
   "metadata": {
    "id": "7aa2a94a"
   },
   "source": [
    "## Part 7: CUDA Backend - Elementwise and scalar operations\n",
    "\n",
    "Implement the following functions in `ndarray_backend_cuda.cu`:\n",
    "\n",
    "* `EwiseMul()`, `ScalarMul()`\n",
    "* `EwiseDiv()`, `ScalarDiv()`\n",
    "* `ScalarPower()`\n",
    "* `EwiseMaximum()`, `ScalarMaximum()`\n",
    "* `EwiseEq()`, `ScalarEq()`\n",
    "* `EwiseGe()`, `ScalarGe()`\n",
    "* `EwiseLog()`\n",
    "* `EwiseExp()`\n",
    "* `EwiseTanh()`\n",
    "\n",
    "Again, we don't provide these function prototypes, and you're welcome to use C++ templates or macros to make this implementation more compact.  You will also want to uncomment the appropriate regions of the Pybind11 code once you've implemented each function."
   ]
  },
  {
   "cell_type": "code",
   "execution_count": 10,
   "metadata": {
    "id": "ee2d6dd8"
   },
   "outputs": [
    {
     "name": "stdout",
     "output_type": "stream",
     "text": [
      "\u001b[1m============================= test session starts ==============================\u001b[0m\n",
      "platform linux -- Python 3.11.7, pytest-7.4.4, pluggy-1.3.0 -- /home/haze/anaconda3/envs/dlsys/bin/python3\n",
      "cachedir: .pytest_cache\n",
      "rootdir: /home/haze/Code/DLsys/homework/hw3\n",
      "plugins: anyio-4.2.0\n",
      "collected 0 items / 1 error                                                    \u001b[0m\n",
      "\n",
      "==================================== ERRORS ====================================\n",
      "\u001b[31m\u001b[1m__________________ ERROR collecting tests/hw3/test_ndarray.py __________________\u001b[0m\n",
      "\u001b[31mImportError while importing test module '/home/haze/Code/DLsys/homework/hw3/tests/hw3/test_ndarray.py'.\n",
      "Hint: make sure your test modules/packages have valid Python names.\n",
      "Traceback:\n",
      "\u001b[1m\u001b[31m/home/haze/anaconda3/envs/dlsys/lib/python3.11/importlib/__init__.py\u001b[0m:126: in import_module\n",
      "    \u001b[94mreturn\u001b[39;49;00m _bootstrap._gcd_import(name[level:], package, level)\u001b[90m\u001b[39;49;00m\n",
      "\u001b[1m\u001b[31mtests/hw3/test_ndarray.py\u001b[0m:4: in <module>\n",
      "    \u001b[94mimport\u001b[39;49;00m \u001b[04m\u001b[96mneedle\u001b[39;49;00m \u001b[94mas\u001b[39;49;00m \u001b[04m\u001b[96mndl\u001b[39;49;00m\u001b[90m\u001b[39;49;00m\n",
      "\u001b[1m\u001b[31mE   ModuleNotFoundError: No module named 'needle'\u001b[0m\u001b[0m\n",
      "\u001b[36m\u001b[1m=========================== short test summary info ============================\u001b[0m\n",
      "\u001b[31mERROR\u001b[0m tests/hw3/test_ndarray.py\n",
      "!!!!!!!!!!!!!!!!!!!! Interrupted: 1 error during collection !!!!!!!!!!!!!!!!!!!!\n",
      "\u001b[31m=============================== \u001b[31m\u001b[1m1 error\u001b[0m\u001b[31m in 0.16s\u001b[0m\u001b[31m ===============================\u001b[0m\n"
     ]
    }
   ],
   "source": [
    "!python3 -m pytest -v -k \"(ewise_fn or ewise_max or log or exp or tanh or (scalar and not setitem)) and cuda\""
   ]
  },
  {
   "cell_type": "code",
   "execution_count": 11,
   "metadata": {
    "id": "db80e3fa"
   },
   "outputs": [
    {
     "name": "stdout",
     "output_type": "stream",
     "text": [
      "submit\n",
      "\u001b[1m============================= test session starts ==============================\u001b[0m\n",
      "platform linux -- Python 3.11.7, pytest-7.4.4, pluggy-1.3.0\n",
      "rootdir: /home/haze/Code/DLsys/homework/hw3\n",
      "plugins: anyio-4.2.0\n",
      "collected 0 items / 1 error                                                    \u001b[0m\n",
      "\n",
      "==================================== ERRORS ====================================\n",
      "\u001b[31m\u001b[1m__________________ ERROR collecting tests/hw3/test_ndarray.py __________________\u001b[0m\n",
      "\u001b[31mImportError while importing test module '/home/haze/Code/DLsys/homework/hw3/tests/hw3/test_ndarray.py'.\n",
      "Hint: make sure your test modules/packages have valid Python names.\n",
      "Traceback:\n",
      "\u001b[1m\u001b[31m/home/haze/anaconda3/envs/dlsys/lib/python3.11/importlib/__init__.py\u001b[0m:126: in import_module\n",
      "    \u001b[94mreturn\u001b[39;49;00m _bootstrap._gcd_import(name[level:], package, level)\u001b[90m\u001b[39;49;00m\n",
      "\u001b[1m\u001b[31mtests/hw3/test_ndarray.py\u001b[0m:4: in <module>\n",
      "    \u001b[94mimport\u001b[39;49;00m \u001b[04m\u001b[96mneedle\u001b[39;49;00m \u001b[94mas\u001b[39;49;00m \u001b[04m\u001b[96mndl\u001b[39;49;00m\u001b[90m\u001b[39;49;00m\n",
      "\u001b[1m\u001b[31mE   ModuleNotFoundError: No module named 'needle'\u001b[0m\u001b[0m\n",
      "\u001b[36m\u001b[1m=========================== short test summary info ============================\u001b[0m\n",
      "\u001b[31mERROR\u001b[0m tests/hw3/test_ndarray.py\n",
      "!!!!!!!!!!!!!!!!!!!! Interrupted: 1 error during collection !!!!!!!!!!!!!!!!!!!!\n",
      "\u001b[31m=============================== \u001b[31m\u001b[1m1 error\u001b[0m\u001b[31m in 0.06s\u001b[0m\u001b[31m ===============================\u001b[0m\n"
     ]
    }
   ],
   "source": [
    "!python3 -m mugrade submit \"YOUR KEY HERE\" -k \"ndarray_cuda_ops\""
   ]
  },
  {
   "cell_type": "markdown",
   "metadata": {
    "id": "9b7de79b"
   },
   "source": [
    "## Part 8: CUDA Backend - Reductions\n",
    "\n",
    "\n",
    "Implement the following functions in `ndarray_backend_cuda.cu`:\n",
    "\n",
    "* `ReduceMax()`\n",
    "* `ReduceSum()`\n",
    "\n",
    "You can take a fairly simplistic approach here, and just use a separate CUDA thread for each individual reduction item: i.e., if there is a 100 x 20 array you are reducing over the second dimension, you could have 100 threads, each of which individually processed its own 20-dimensional array..  This is particularly inefficient for the `.max(axis=None)` calls, but we won't worry about this for the time being.  If you want a more industrial-grade implementation, you use a hierarchical mechanism that first aggregated across some smaller span, then had a secondary function that aggregated across _these_ reduced arrays, etc.  But this is not needed to pass the tests."
   ]
  },
  {
   "cell_type": "code",
   "execution_count": 12,
   "metadata": {
    "id": "10239c84"
   },
   "outputs": [
    {
     "name": "stdout",
     "output_type": "stream",
     "text": [
      "\u001b[1m============================= test session starts ==============================\u001b[0m\n",
      "platform linux -- Python 3.11.7, pytest-7.4.4, pluggy-1.3.0 -- /home/haze/anaconda3/envs/dlsys/bin/python3\n",
      "cachedir: .pytest_cache\n",
      "rootdir: /home/haze/Code/DLsys/homework/hw3\n",
      "plugins: anyio-4.2.0\n",
      "collected 0 items / 1 error                                                    \u001b[0m\n",
      "\n",
      "==================================== ERRORS ====================================\n",
      "\u001b[31m\u001b[1m__________________ ERROR collecting tests/hw3/test_ndarray.py __________________\u001b[0m\n",
      "\u001b[31mImportError while importing test module '/home/haze/Code/DLsys/homework/hw3/tests/hw3/test_ndarray.py'.\n",
      "Hint: make sure your test modules/packages have valid Python names.\n",
      "Traceback:\n",
      "\u001b[1m\u001b[31m/home/haze/anaconda3/envs/dlsys/lib/python3.11/importlib/__init__.py\u001b[0m:126: in import_module\n",
      "    \u001b[94mreturn\u001b[39;49;00m _bootstrap._gcd_import(name[level:], package, level)\u001b[90m\u001b[39;49;00m\n",
      "\u001b[1m\u001b[31mtests/hw3/test_ndarray.py\u001b[0m:4: in <module>\n",
      "    \u001b[94mimport\u001b[39;49;00m \u001b[04m\u001b[96mneedle\u001b[39;49;00m \u001b[94mas\u001b[39;49;00m \u001b[04m\u001b[96mndl\u001b[39;49;00m\u001b[90m\u001b[39;49;00m\n",
      "\u001b[1m\u001b[31mE   ModuleNotFoundError: No module named 'needle'\u001b[0m\u001b[0m\n",
      "\u001b[36m\u001b[1m=========================== short test summary info ============================\u001b[0m\n",
      "\u001b[31mERROR\u001b[0m tests/hw3/test_ndarray.py\n",
      "!!!!!!!!!!!!!!!!!!!! Interrupted: 1 error during collection !!!!!!!!!!!!!!!!!!!!\n",
      "\u001b[31m=============================== \u001b[31m\u001b[1m1 error\u001b[0m\u001b[31m in 0.16s\u001b[0m\u001b[31m ===============================\u001b[0m\n"
     ]
    }
   ],
   "source": [
    "!python3 -m pytest -v -k \"reduce and cuda\""
   ]
  },
  {
   "cell_type": "code",
   "execution_count": 13,
   "metadata": {
    "id": "0f75df69"
   },
   "outputs": [
    {
     "name": "stdout",
     "output_type": "stream",
     "text": [
      "submit\n",
      "\u001b[1m============================= test session starts ==============================\u001b[0m\n",
      "platform linux -- Python 3.11.7, pytest-7.4.4, pluggy-1.3.0\n",
      "rootdir: /home/haze/Code/DLsys/homework/hw3\n",
      "plugins: anyio-4.2.0\n",
      "collected 0 items / 1 error                                                    \u001b[0m\n",
      "\n",
      "==================================== ERRORS ====================================\n",
      "\u001b[31m\u001b[1m__________________ ERROR collecting tests/hw3/test_ndarray.py __________________\u001b[0m\n",
      "\u001b[31mImportError while importing test module '/home/haze/Code/DLsys/homework/hw3/tests/hw3/test_ndarray.py'.\n",
      "Hint: make sure your test modules/packages have valid Python names.\n",
      "Traceback:\n",
      "\u001b[1m\u001b[31m/home/haze/anaconda3/envs/dlsys/lib/python3.11/importlib/__init__.py\u001b[0m:126: in import_module\n",
      "    \u001b[94mreturn\u001b[39;49;00m _bootstrap._gcd_import(name[level:], package, level)\u001b[90m\u001b[39;49;00m\n",
      "\u001b[1m\u001b[31mtests/hw3/test_ndarray.py\u001b[0m:4: in <module>\n",
      "    \u001b[94mimport\u001b[39;49;00m \u001b[04m\u001b[96mneedle\u001b[39;49;00m \u001b[94mas\u001b[39;49;00m \u001b[04m\u001b[96mndl\u001b[39;49;00m\u001b[90m\u001b[39;49;00m\n",
      "\u001b[1m\u001b[31mE   ModuleNotFoundError: No module named 'needle'\u001b[0m\u001b[0m\n",
      "\u001b[36m\u001b[1m=========================== short test summary info ============================\u001b[0m\n",
      "\u001b[31mERROR\u001b[0m tests/hw3/test_ndarray.py\n",
      "!!!!!!!!!!!!!!!!!!!! Interrupted: 1 error during collection !!!!!!!!!!!!!!!!!!!!\n",
      "\u001b[31m=============================== \u001b[31m\u001b[1m1 error\u001b[0m\u001b[31m in 0.07s\u001b[0m\u001b[31m ===============================\u001b[0m\n"
     ]
    }
   ],
   "source": [
    "!python3 -m mugrade submit \"YOUR KEY HERE\" -k \"ndarray_cuda_reductions\""
   ]
  },
  {
   "cell_type": "markdown",
   "metadata": {
    "id": "01027bb7"
   },
   "source": [
    "## Part 9: CUDA Backend - Matrix multiplication\n",
    "\n",
    "Implement the following functions in `ndarray_backend_cuda.cu`:\n",
    "\n",
    "* `Matmul()`\n",
    "\n",
    "Finally, as your final exercise, you'll implement matrix multiplication on the GPU.  Your implementation here can roughly follow the presentation in class.  While you can pass the tests using fairly naive code here (i.e., you could just have a separate thread for each (i,j) location in the matrix, doing the matrix multiplication efficiently (to make it actually faster than a CPU version) requires cooperative fetching and the block shared memory register tiling covered in class.  Try to implement using these methods, and see how much faster you can get your code than the C++ (or numpy) backends.\n"
   ]
  },
  {
   "cell_type": "code",
   "execution_count": 14,
   "metadata": {
    "id": "aa7b46d6"
   },
   "outputs": [
    {
     "name": "stdout",
     "output_type": "stream",
     "text": [
      "\u001b[1m============================= test session starts ==============================\u001b[0m\n",
      "platform linux -- Python 3.11.7, pytest-7.4.4, pluggy-1.3.0 -- /home/haze/anaconda3/envs/dlsys/bin/python3\n",
      "cachedir: .pytest_cache\n",
      "rootdir: /home/haze/Code/DLsys/homework/hw3\n",
      "plugins: anyio-4.2.0\n",
      "collected 0 items / 1 error                                                    \u001b[0m\n",
      "\n",
      "==================================== ERRORS ====================================\n",
      "\u001b[31m\u001b[1m__________________ ERROR collecting tests/hw3/test_ndarray.py __________________\u001b[0m\n",
      "\u001b[31mImportError while importing test module '/home/haze/Code/DLsys/homework/hw3/tests/hw3/test_ndarray.py'.\n",
      "Hint: make sure your test modules/packages have valid Python names.\n",
      "Traceback:\n",
      "\u001b[1m\u001b[31m/home/haze/anaconda3/envs/dlsys/lib/python3.11/importlib/__init__.py\u001b[0m:126: in import_module\n",
      "    \u001b[94mreturn\u001b[39;49;00m _bootstrap._gcd_import(name[level:], package, level)\u001b[90m\u001b[39;49;00m\n",
      "\u001b[1m\u001b[31mtests/hw3/test_ndarray.py\u001b[0m:4: in <module>\n",
      "    \u001b[94mimport\u001b[39;49;00m \u001b[04m\u001b[96mneedle\u001b[39;49;00m \u001b[94mas\u001b[39;49;00m \u001b[04m\u001b[96mndl\u001b[39;49;00m\u001b[90m\u001b[39;49;00m\n",
      "\u001b[1m\u001b[31mE   ModuleNotFoundError: No module named 'needle'\u001b[0m\u001b[0m\n",
      "\u001b[36m\u001b[1m=========================== short test summary info ============================\u001b[0m\n",
      "\u001b[31mERROR\u001b[0m tests/hw3/test_ndarray.py\n",
      "!!!!!!!!!!!!!!!!!!!! Interrupted: 1 error during collection !!!!!!!!!!!!!!!!!!!!\n",
      "\u001b[31m=============================== \u001b[31m\u001b[1m1 error\u001b[0m\u001b[31m in 0.16s\u001b[0m\u001b[31m ===============================\u001b[0m\n"
     ]
    }
   ],
   "source": [
    "!python3 -m pytest -v -k \"matmul and cuda\""
   ]
  },
  {
   "cell_type": "code",
   "execution_count": 15,
   "metadata": {
    "id": "3ae22cf2"
   },
   "outputs": [
    {
     "name": "stdout",
     "output_type": "stream",
     "text": [
      "submit\n",
      "\u001b[1m============================= test session starts ==============================\u001b[0m\n",
      "platform linux -- Python 3.11.7, pytest-7.4.4, pluggy-1.3.0\n",
      "rootdir: /home/haze/Code/DLsys/homework/hw3\n",
      "plugins: anyio-4.2.0\n",
      "collected 0 items / 1 error                                                    \u001b[0m\n",
      "\n",
      "==================================== ERRORS ====================================\n",
      "\u001b[31m\u001b[1m__________________ ERROR collecting tests/hw3/test_ndarray.py __________________\u001b[0m\n",
      "\u001b[31mImportError while importing test module '/home/haze/Code/DLsys/homework/hw3/tests/hw3/test_ndarray.py'.\n",
      "Hint: make sure your test modules/packages have valid Python names.\n",
      "Traceback:\n",
      "\u001b[1m\u001b[31m/home/haze/anaconda3/envs/dlsys/lib/python3.11/importlib/__init__.py\u001b[0m:126: in import_module\n",
      "    \u001b[94mreturn\u001b[39;49;00m _bootstrap._gcd_import(name[level:], package, level)\u001b[90m\u001b[39;49;00m\n",
      "\u001b[1m\u001b[31mtests/hw3/test_ndarray.py\u001b[0m:4: in <module>\n",
      "    \u001b[94mimport\u001b[39;49;00m \u001b[04m\u001b[96mneedle\u001b[39;49;00m \u001b[94mas\u001b[39;49;00m \u001b[04m\u001b[96mndl\u001b[39;49;00m\u001b[90m\u001b[39;49;00m\n",
      "\u001b[1m\u001b[31mE   ModuleNotFoundError: No module named 'needle'\u001b[0m\u001b[0m\n",
      "\u001b[36m\u001b[1m=========================== short test summary info ============================\u001b[0m\n",
      "\u001b[31mERROR\u001b[0m tests/hw3/test_ndarray.py\n",
      "!!!!!!!!!!!!!!!!!!!! Interrupted: 1 error during collection !!!!!!!!!!!!!!!!!!!!\n",
      "\u001b[31m=============================== \u001b[31m\u001b[1m1 error\u001b[0m\u001b[31m in 0.07s\u001b[0m\u001b[31m ===============================\u001b[0m\n"
     ]
    }
   ],
   "source": [
    "!python3 -m mugrade submit \"YOUR KEY HERE\" -k \"ndarray_cuda_matmul\""
   ]
  }
 ],
 "metadata": {
  "accelerator": "GPU",
  "colab": {
   "collapsed_sections": [],
   "name": "hw3.ipynb",
   "provenance": []
  },
  "kernelspec": {
   "display_name": "Python 3.8.10 64-bit",
   "language": "python",
   "name": "python3"
  },
  "language_info": {
   "codemirror_mode": {
    "name": "ipython",
    "version": 3
   },
   "file_extension": ".py",
   "mimetype": "text/x-python",
   "name": "python",
   "nbconvert_exporter": "python",
   "pygments_lexer": "ipython3",
   "version": "3.11.5"
  },
  "vscode": {
   "interpreter": {
    "hash": "916dbcbb3f70747c44a77c7bcd40155683ae19c65e1c03b4aa3499c5328201f1"
   }
  }
 },
 "nbformat": 4,
 "nbformat_minor": 5
}
