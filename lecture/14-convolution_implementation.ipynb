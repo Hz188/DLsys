{
 "cells": [
  {
   "cell_type": "markdown",
   "id": "b3ffc505",
   "metadata": {},
   "source": [
    "# Implementing convolutions\n",
    "\n",
    "This notebook will walk you through the process of implementing a reasonably efficient convolutional.  We'll do this using native numpy for the purposes of illustration, but in the homework, you'll need to implement these all using your own straight-C (and GPU) implementations."
   ]
  },
  {
   "cell_type": "markdown",
   "id": "c89320fe",
   "metadata": {},
   "source": [
    "## Convolutions\n",
    "\n",
    "Here we will build up some of the basic approaches for convolution, from a simple all-for-loop algorithm to an algorithm that uses a single matrix multiplication plus resize operations."
   ]
  },
  {
   "cell_type": "markdown",
   "id": "7434d275",
   "metadata": {},
   "source": [
    "### Storage order\n",
    "\n",
    "In the simple fully-connected networks we have been developing so far, hidden units are typically simply represented as vectors, i..e., a quantity $z \\in \\mathbb{R}^n$, or when representing an entire minibatch, a matrix $Z \\in \\mathbb{R}^{B \\times n}$.  But when we move to convolutional networks, we need to include additional structure in the hidden unit.  This is typically done by representing each hidden vector as a 3D array, with dimensions `height x width x channels`, or in the minibatch case, with an additional batch dimension.  That is, we could represent a hidden unit as an array\n",
    "\n",
    "```c++\n",
    "float Z[BATCHES][HEIGHT][WIDTH][CHANNELS];\n",
    "```\n",
    "\n",
    "The format above is referred to as NHWC format (number(batch)-height-width-channel).  However, there are other ways we can represent the hidden unit as well.  For example, PyTorch defaults to the NCHW format (indexing over channels in the second dimension, then height and width), though it can also support NHWC in later versions.  There are subtle but substantial differences in the performance for each different setting: convolutions are typically faster in NHWC format, owing to their ability to better exploit tensor cores; but NCHW format is typically faster for BatchNorm operation (because batch norm for convolutional networks operates over all pixels in an individual channel).\n",
    "\n",
    "Although less commonly discussed, there is a simliar trade-off to be had when it comes to storing the convolutional weights (filter) as well.  Convolutional filters are specified by their kernel size (which can technically be different over different height and width dimensions, but this is quite uncommon), their input channels, and their output channels.  We'll store these weights in the form:\n",
    "\n",
    "```c++\n",
    "float weights[KERNEL_SIZE][KERNEL_SIZE][IN_CHANNELS][OUT_CHANNELS];\n",
    "```\n",
    "\n",
    "Again, PyTorch does things a bit differently here (for no good reason, as far as I can tell, it was just done that way historically), storing weight in the order `OUT_CHANNELS x IN_CHANNELS x KERNELS_SIZE x KERNEL_SIZE`."
   ]
  },
  {
   "cell_type": "markdown",
   "id": "72704412",
   "metadata": {},
   "source": [
    "## Convolutions with simple loops\n",
    "\n",
    "Let's begin by implementing a simple convolutional operator.  We're going to implement a simple version, which allows for different kernel sizes but which _doesn't_ have any built-in padding: to implement padding, you'd just explicitly form a new ndarray with the padding built in.  This means that if we have an $H \\times W$ input image and convolution with kernel size $K$, we'll end up with a $(H - K + 1) \\times (W - K + 1)$ image.\n",
    "\n",
    "Although it's \"cheating\" in some sense, we're going to use PyTorch as a reference implementation of convolution that we will check against.  However, since PyTorch, as mentioned above, uses the NCHW format (and stores the convolutional weights in a different ordering as well), and we'll use the NHWC format and the weights ordering stated above, we will need to swap things around for our reference implementation."
   ]
  },
  {
   "cell_type": "code",
   "execution_count": 41,
   "id": "13bb47d2",
   "metadata": {},
   "outputs": [],
   "source": [
    "import torch\n",
    "import torch.nn as nn\n",
    "import numpy as np\n",
    "def conv_reference(Z, weight):\n",
    "    # NHWC -> NCHW\n",
    "    Z_torch = torch.tensor(Z).permute(0,3,1,2)\n",
    "    \n",
    "    # KKIO -> OIKK\n",
    "    W_torch = torch.tensor(weight).permute(3,2,0,1)\n",
    "    \n",
    "    # run convolution\n",
    "    out = nn.functional.conv2d(Z_torch, W_torch)\n",
    "    \n",
    "    # NCHW -> NHWC\n",
    "    return out.permute(0,2,3,1).contiguous().numpy()"
   ]
  },
  {
   "cell_type": "code",
   "execution_count": 42,
   "id": "ede64bb3",
   "metadata": {},
   "outputs": [
    {
     "name": "stdout",
     "output_type": "stream",
     "text": [
      "(10, 30, 30, 16)\n"
     ]
    }
   ],
   "source": [
    "Z = np.random.randn(10,32,32,8)\n",
    "W = np.random.randn(3,3,8,16)\n",
    "out = conv_reference(Z,W)\n",
    "print(out.shape)"
   ]
  },
  {
   "cell_type": "code",
   "execution_count": 43,
   "id": "0fc07d5b",
   "metadata": {},
   "outputs": [
    {
     "name": "stdout",
     "output_type": "stream",
     "text": [
      "CPU times: user 1.44 ms, sys: 2.57 ms, total: 4.01 ms\n",
      "Wall time: 1.48 ms\n"
     ]
    }
   ],
   "source": [
    "%%time\n",
    "out = conv_reference(Z,W)"
   ]
  },
  {
   "cell_type": "markdown",
   "id": "dac177dd",
   "metadata": {},
   "source": [
    "Now let's consider the simplest possible implementation of a convolution, that just does the entire operation using for loops."
   ]
  },
  {
   "cell_type": "code",
   "execution_count": 44,
   "id": "42551005",
   "metadata": {},
   "outputs": [],
   "source": [
    "def conv_naive(Z, weight):\n",
    "    N,H,W,C_in = Z.shape\n",
    "    K,_,_,C_out = weight.shape\n",
    "    \n",
    "    out = np.zeros((N,H-K+1,W-K+1,C_out));\n",
    "    for n in range(N):\n",
    "        for c_in in range(C_in):\n",
    "            for c_out in range(C_out):\n",
    "                for y in range(H-K+1):\n",
    "                    for x in range(W-K+1):\n",
    "                        for i in range(K):\n",
    "                            for j in range(K):\n",
    "                                out[n,y,x,c_out] += Z[n,y+i,x+j,c_in] * weight[i,j,c_in,c_out]\n",
    "    return out"
   ]
  },
  {
   "cell_type": "markdown",
   "id": "e25f5bf9",
   "metadata": {},
   "source": [
    "We can check to make sure this implementation works by comparing to the PyTorch reference implementation."
   ]
  },
  {
   "cell_type": "code",
   "execution_count": 45,
   "id": "3f78a898",
   "metadata": {},
   "outputs": [
    {
     "name": "stdout",
     "output_type": "stream",
     "text": [
      "1.2158976566098508e-12\n"
     ]
    }
   ],
   "source": [
    "out2 = conv_naive(Z,W)\n",
    "print(np.linalg.norm(out - out2))"
   ]
  },
  {
   "cell_type": "markdown",
   "id": "82f20587",
   "metadata": {},
   "source": [
    "The implementation works, but (not surprisingly, since you would never want to actually have a 7-fold loop in interpreted code), the PyTorch version is _much much_ faster; YMMV, but on my laptop, the naive implementation is more than 2000 times slower."
   ]
  },
  {
   "cell_type": "code",
   "execution_count": 46,
   "id": "c8242fb6",
   "metadata": {
    "scrolled": true
   },
   "outputs": [
    {
     "name": "stdout",
     "output_type": "stream",
     "text": [
      "CPU times: user 3.99 s, sys: 10.1 ms, total: 4 s\n",
      "Wall time: 4 s\n"
     ]
    }
   ],
   "source": [
    "%%time\n",
    "out2 = conv_naive(Z,W)"
   ]
  },
  {
   "cell_type": "code",
   "execution_count": 47,
   "id": "ef0ec811",
   "metadata": {},
   "outputs": [
    {
     "name": "stdout",
     "output_type": "stream",
     "text": [
      "CPU times: user 1.95 ms, sys: 2.62 ms, total: 4.57 ms\n",
      "Wall time: 1.73 ms\n"
     ]
    }
   ],
   "source": [
    "%%time\n",
    "out = conv_reference(Z,W)"
   ]
  },
  {
   "cell_type": "markdown",
   "id": "7cb297e2",
   "metadata": {},
   "source": [
    "## Convolutions as matrix mulitplications\n",
    "\n",
    "Ok, but, no one is going to actually implement convolutions elementwise in Python.  Let's see how we can start to do much better.  The simplest way to make this much faster (and frankly, a very reasonable implementation of convolution) is to perform it as a sequence of matrix multiplications.  Remember that a kernel size $K = 1$ convolution is equivalent to performing matrix multiplication over the channel dimensions.  That is, suppose we have the following convolution."
   ]
  },
  {
   "cell_type": "code",
   "execution_count": 48,
   "id": "54e2e745",
   "metadata": {},
   "outputs": [
    {
     "name": "stdout",
     "output_type": "stream",
     "text": [
      "(10, 32, 32, 16)\n"
     ]
    }
   ],
   "source": [
    "W1 = np.random.randn(1,1,8,16)\n",
    "out = conv_reference(Z,W1)\n",
    "print(out.shape)"
   ]
  },
  {
   "cell_type": "markdown",
   "id": "95507425",
   "metadata": {},
   "source": [
    "Then we could implement the convolution using a _single_ matrix multiplication."
   ]
  },
  {
   "cell_type": "code",
   "execution_count": 49,
   "id": "f8c2aa2f",
   "metadata": {},
   "outputs": [
    {
     "name": "stdout",
     "output_type": "stream",
     "text": [
      "0.0\n"
     ]
    }
   ],
   "source": [
    "out2 = Z @ W1[0,0]\n",
    "print(np.linalg.norm(out - out2))"
   ]
  },
  {
   "cell_type": "code",
   "execution_count": 50,
   "id": "e9cf7d3a",
   "metadata": {},
   "outputs": [
    {
     "data": {
      "text/plain": [
       "(8, 16)"
      ]
     },
     "execution_count": 50,
     "metadata": {},
     "output_type": "execute_result"
    }
   ],
   "source": [
    "W1[0,0].shape"
   ]
  },
  {
   "cell_type": "markdown",
   "id": "afbfef70",
   "metadata": {},
   "source": [
    "We're here exploiting the nicety that in numpy, when you compute a matrix multiplication by a multi-dimensional array, it will treat the leading dimensions all as rows of a matrix.  That is, the above operation would be equivalent to:"
   ]
  },
  {
   "cell_type": "code",
   "execution_count": 51,
   "id": "bb755b48",
   "metadata": {},
   "outputs": [],
   "source": [
    "out2 = (Z.reshape(-1,8) @ W1[0,0]).reshape(Z.shape[0], Z.shape[1], Z.shape[2], W1.shape[3])"
   ]
  },
  {
   "cell_type": "markdown",
   "id": "4c4572a4",
   "metadata": {},
   "source": [
    "This strategy immediately motivates a very natural approach to convolution: we can iterate over just the kernel dimensions $i$ and $j$, and use matrix multiplication to perform the convolution."
   ]
  },
  {
   "cell_type": "code",
   "execution_count": 52,
   "id": "a4f057d3",
   "metadata": {},
   "outputs": [],
   "source": [
    "def conv_matrix_mult(Z, weight):\n",
    "    N,H,W,C_in = Z.shape\n",
    "    K,_,_,C_out = weight.shape\n",
    "    out = np.zeros((N,H-K+1,W-K+1,C_out))\n",
    "    \n",
    "    for i in range(K):\n",
    "        for j in range(K):\n",
    "            out += Z[:,i:i+H-K+1,j:j+W-K+1,:] @ weight[i,j]\n",
    "            # 这句话的意思就是\n",
    "            #   1. C_out个卷积核的第[i,j]位置处的元素都取出来：是一个C_in * C_out的矩阵\n",
    "            #      类比1*1卷积，那么就是 C H W * C_in @ C_in * C_out = C H W * C_out\n",
    "            #   2. 现在不是1*1卷积了，而是K*K，每个卷积核的元素不能访问到所有的为止\n",
    "            #      比如说：第[0,0]处的值只能卷到[0:H-K+1, 0:W-K+1]处的值\n",
    "            #   3. 所以遍历形式下就是[i:i+H-K+1,j:j+W-K+1]\n",
    "            #   4. += 是因为，不同的卷积核的值，可以卷到同一个地方，所以要累加（这是显然的）\n",
    "            \n",
    "            # 或者从另一个角度来看：\n",
    "            #   1. 当我们取出weight[i, j]之后，就相当于是一个1*1卷积了\n",
    "            #      那么这个1*1卷积能卷的图像其实是原图像 [H,W,C_in] 的一个子集\n",
    "            #      这个子集是：[N,i:i+H-K+1, j:j+H-K+1, C_in]\n",
    "            #   2. 然后将K*K个1*1卷积的重合的部分相加（+=的含义）\n",
    "    return out\n",
    "    "
   ]
  },
  {
   "attachments": {
    "image.png": {
     "image/png": "[encoded data removed]"
    }
   },
   "cell_type": "markdown",
   "id": "d9bde823",
   "metadata": {},
   "source": [
    "![image.png](attachment:image.png)"
   ]
  },
  {
   "cell_type": "code",
   "execution_count": 53,
   "id": "26d0b31c",
   "metadata": {},
   "outputs": [
    {
     "name": "stdout",
     "output_type": "stream",
     "text": [
      "3.0827026693195323e-12\n"
     ]
    }
   ],
   "source": [
    "Z = np.random.randn(100,32,32,8)\n",
    "W = np.random.randn(3,3,8,16)\n",
    "\n",
    "out = conv_reference(Z,W)\n",
    "out2 = conv_matrix_mult(Z,W)\n",
    "print(np.linalg.norm(out - out2))"
   ]
  },
  {
   "cell_type": "markdown",
   "id": "db45785e",
   "metadata": {},
   "source": [
    "This works as well, as (as expected) is _much_ faster, starting to be competetive even with the PyTorch version (about 2-3x slower on my machine).  Let's in fact increase the batch size a bit to make this a more lengthy operation."
   ]
  },
  {
   "cell_type": "code",
   "execution_count": 54,
   "id": "9fa8aeba",
   "metadata": {},
   "outputs": [
    {
     "name": "stdout",
     "output_type": "stream",
     "text": [
      "CPU times: user 44.1 ms, sys: 9.46 ms, total: 53.5 ms\n",
      "Wall time: 10.9 ms\n"
     ]
    }
   ],
   "source": [
    "%%time\n",
    "out = conv_reference(Z,W)"
   ]
  },
  {
   "cell_type": "code",
   "execution_count": 55,
   "id": "02ee7f81",
   "metadata": {},
   "outputs": [
    {
     "name": "stdout",
     "output_type": "stream",
     "text": [
      "CPU times: user 139 ms, sys: 11.3 ms, total: 151 ms\n",
      "Wall time: 27 ms\n"
     ]
    }
   ],
   "source": [
    "%%time\n",
    "out = conv_matrix_mult(Z,W)"
   ]
  },
  {
   "cell_type": "markdown",
   "id": "83b64d34",
   "metadata": {},
   "source": [
    "## Manipulating matrices via strides\n",
    "\n",
    "Before implementing convolutions via im2col, let's consider an example that actually has nothing to do with convolution.  Instead, let's consider the efficient matrix multiplication operations that we discussed in an earlier lecture.  Normally we think of storing a matrix as a 2D array:\n",
    "\n",
    "在实现im2col之前，让我们考虑一个与卷积无关的示例。相反，让我们考虑一下我们在之前的讲座中讨论过的高效矩阵乘法操作。通常我们将矩阵存储为二维数组：\n",
    "\n",
    "```c++\n",
    "float A[M][N];\n",
    "```\n",
    "\n",
    "In the typical row-major format, this will store each N dimensional row of the matrix one after the other in memory.  However, recall that in order to make better use of the caches and vector operations in modern CPUs, it was beneficial to lay our our matrix memory groups by individual small \"tiles\", so that the CPU vector operations could efficiently access operators\n",
    "\n",
    "在典型的行主序（row-major）格式中，这将按顺序将矩阵的每个N维行存储在内存中。然而，回想一下为了更好地利用现代CPU的缓存和矢量操作，通过将矩阵内存分组为个别的小“瓦片（tile）”，以便CPU矢量操作可以高效地访问运算符，这是有益的。\n",
    "\n",
    "    float A[M/TILE][N/TILE][TILE][TILE];\n",
    "    \n",
    "where `TILE` is some small constant (like 4), which allows the CPU to use its vector processor to perform very efficient operations on `TILE x TILE` blocks.  Importantly, what enables this to be so efficient is that in the standard memory ordering for an ND array, this grouping would locate all `TILE x TILE` block consecutively in memroy, so they could quickly be loaded in and out of cache / registers / etc.\n",
    "\n",
    "`TILE`是一个小的常数（比如4），它允许CPU使用其向量处理器对`TILE x TILE`的块执行非常高效的操作。重要的是，使得这样的操作如此高效的原因是，在ND数组的标准内存排序中，这种分组将所有的`TILE x TILE`的块连续地定位在内存中，因此它们可以快速地从缓存/寄存器等加载和卸载。\n",
    "\n",
    "How exactly would we convert a matrix to this form?  You could imagine how to manually copy from one matrix type to another, but it would be rather cumbersome to write this code each time you wanted to experiment with different (and in order for the code to be efficient, you'd need to write it in C/C++ as well, which could get to be a pain).  Instead, we're going to show you how to do this using the handy function `np.lib.stride_tricks.as_strided()`, which lets you create new matrices by manually manipulating the strides of a matrix but _not_ changing the data; we can then use `np.ascontiguousarray()` to lay out the memory sequentially.  This sets of tricks let us rearrange matrices fairly efficiently in just one or two lines of numpy code.\n",
    "\n",
    "如何将矩阵转换为这种形式呢？您可以想象如何手动从一种矩阵类型复制到另一种矩阵类型，但是每次想要尝试不同方式时编写这样的代码会相当麻烦（而且为了使代码高效，您还需要用C/C++编写，这可能会变得很麻烦）。相反，我们将向您展示如何使用便捷的函数`np.lib.stride_tricks.as_strided()`来实现这一点，该函数允许您通过手动调整矩阵的步幅（strides）来创建新的矩阵，但不改变数据；然后，我们可以使用`np.ascontiguousarray()`将内存按顺序布置。这套技巧让我们能够只用一两行numpy代码相当高效地重新排列矩阵。"
   ]
  },
  {
   "cell_type": "markdown",
   "id": "5ecde2d0",
   "metadata": {},
   "source": [
    "### An example: a 6x6 2D array\n",
    "\n",
    "让我们来看一个例子，假设一个6x6的NumPy数组。"
   ]
  },
  {
   "cell_type": "code",
   "execution_count": 56,
   "id": "62e3c376",
   "metadata": {},
   "outputs": [
    {
     "name": "stdout",
     "output_type": "stream",
     "text": [
      "[[ 0.  1.  2.  3.  4.  5.]\n",
      " [ 6.  7.  8.  9. 10. 11.]\n",
      " [12. 13. 14. 15. 16. 17.]\n",
      " [18. 19. 20. 21. 22. 23.]\n",
      " [24. 25. 26. 27. 28. 29.]\n",
      " [30. 31. 32. 33. 34. 35.]]\n"
     ]
    }
   ],
   "source": [
    "import numpy as np\n",
    "n = 6\n",
    "A = np.arange(n**2, dtype=np.float32).reshape(n,n)\n",
    "print(A)"
   ]
  },
  {
   "cell_type": "markdown",
   "id": "ce404302",
   "metadata": {},
   "source": [
    "这个数组按行在内存中排列。实际上，在Python中访问NumPy数组的底层原始内存有点麻烦（NumPy试图尽力阻止你这样做），但我们可以使用以下代码来查看数组的排列方式："
   ]
  },
  {
   "cell_type": "code",
   "execution_count": 57,
   "id": "65f9ae85",
   "metadata": {},
   "outputs": [
    {
     "name": "stdout",
     "output_type": "stream",
     "text": [
      "[ 0.  1.  2.  3.  4.  5.  6.  7.  8.  9. 10. 11. 12. 13. 14. 15. 16. 17.\n",
      " 18. 19. 20. 21. 22. 23. 24. 25. 26. 27. 28. 29. 30. 31. 32. 33. 34. 35.]\n"
     ]
    }
   ],
   "source": [
    "import ctypes\n",
    "print(np.frombuffer(ctypes.string_at(A.ctypes.data, A.nbytes), dtype=A.dtype, count=A.size))"
   ]
  },
  {
   "cell_type": "markdown",
   "id": "f91de05b",
   "metadata": {},
   "source": [
    "在几节课之前，我们讨论了使用`strides`结构来按内存布局排列n维数组。例如，为了访问2D数组中的`A[i][j]`元素，我们将访问的内存位置为：\n",
    "\n",
    "```c++\n",
    "A.bytes[i * strides[0] + j * strides[1]];\n",
    "```\n",
    "    \n",
    "同样的操作也可以用于3D张量，访问`A[i][j][k]`的内存位置为：\n",
    "\n",
    "```c++\n",
    "A.bytes[i * strides[0] + j * strides[1] + k * strides[2]];\n",
    "```\n",
    "\n",
    "对于按行主序格式排列的数组，我们可以得到以下结论：\n",
    "\n",
    "```c++\n",
    "strides[0] = num_cols;\n",
    "strides[1] = 1;\n",
    "```\n",
    "\n",
    "我们可以使用`.strides`属性查看我们创建的数组的步幅（strides）。"
   ]
  },
  {
   "cell_type": "code",
   "execution_count": 58,
   "id": "8d86b784",
   "metadata": {},
   "outputs": [
    {
     "name": "stdout",
     "output_type": "stream",
     "text": [
      "(24, 4)\n"
     ]
    }
   ],
   "source": [
    "print(A.strides)"
   ]
  },
  {
   "cell_type": "markdown",
   "id": "430d0a63",
   "metadata": {},
   "source": [
    "请注意，NumPy在步幅（strides）中实际上使用的是总字节数，因此上述数字都要乘以4，因为`float32`类型占用4个字节。"
   ]
  },
  {
   "attachments": {
    "image.png": {
     "image/png": "[encoded data removed]"
    }
   },
   "cell_type": "markdown",
   "id": "748ea6f3",
   "metadata": {},
   "source": [
    "### 使用步幅切分矩阵\n",
    "\n",
    "\n",
    "现在让我们考虑如何通过仅改变步幅来创建`A`数组的切分形式。为简单起见，假设我们希望以2x2的方式对齐，因此我们想将`A`转换为一个`3 x 3 x 2 x 2`的数组。在这种情况下，步幅会是什么？换句话说，如果我们访问元素`A[i][j][k][l]`，在上述排列的数组中它将对应于哪个内存位置？增加第一个索引`i`会在矩阵中向下移动两行，所以`strides[0] = 12`；类似地，增加第二个索引`j`会在矩阵中向右移动两列，所以`strides[1] = 2`。下一个步骤会有点复杂，但仍然相当直观：增加下一个索引`k`会在矩阵中向下移动一行，所以`strides[2] = 6`，最后增加最后一个索引`l`只会在矩阵中向右移动一列，所以`strides[3] = 1`。\n",
    "\n",
    "让我们使用`np.lib.stride_tricks.as_strided()`函数创建一个具有这种形式的矩阵。该函数允许您指定一个新矩阵的形状和步幅，该矩阵由与旧矩阵相同的内存创建。也就是说，它不进行任何内存拷贝，因此非常高效。但是，在使用它时也需要小心，因为它直接创建了一个现有数组的新视图，如果不小心使用，可能会超出数组的边界。\n",
    "\n",
    "![image.png](attachment:image.png)\n",
    "\n",
    "Here's how we can use it to create the tiled view of the matrix `A`."
   ]
  },
  {
   "cell_type": "code",
   "execution_count": 59,
   "id": "bd52e12e",
   "metadata": {},
   "outputs": [
    {
     "name": "stdout",
     "output_type": "stream",
     "text": [
      "[[ 0.  1.  2.  3.  4.  5.]\n",
      " [ 6.  7.  8.  9. 10. 11.]\n",
      " [12. 13. 14. 15. 16. 17.]\n",
      " [18. 19. 20. 21. 22. 23.]\n",
      " [24. 25. 26. 27. 28. 29.]\n",
      " [30. 31. 32. 33. 34. 35.]]\n"
     ]
    }
   ],
   "source": [
    "import numpy as np\n",
    "n = 6\n",
    "A = np.arange(n**2, dtype=np.float32).reshape(n,n)\n",
    "print(A)"
   ]
  },
  {
   "cell_type": "code",
   "execution_count": 60,
   "id": "8eafcce1",
   "metadata": {},
   "outputs": [
    {
     "name": "stdout",
     "output_type": "stream",
     "text": [
      "[[[[ 0.  1.]\n",
      "   [ 6.  7.]]\n",
      "\n",
      "  [[ 2.  3.]\n",
      "   [ 8.  9.]]\n",
      "\n",
      "  [[ 4.  5.]\n",
      "   [10. 11.]]]\n",
      "\n",
      "\n",
      " [[[12. 13.]\n",
      "   [18. 19.]]\n",
      "\n",
      "  [[14. 15.]\n",
      "   [20. 21.]]\n",
      "\n",
      "  [[16. 17.]\n",
      "   [22. 23.]]]\n",
      "\n",
      "\n",
      " [[[24. 25.]\n",
      "   [30. 31.]]\n",
      "\n",
      "  [[26. 27.]\n",
      "   [32. 33.]]\n",
      "\n",
      "  [[28. 29.]\n",
      "   [34. 35.]]]]\n"
     ]
    }
   ],
   "source": [
    "B = np.lib.stride_tricks.as_strided(A, shape=(3,3,2,2), strides=np.array((12,2,6,1))*4)\n",
    "print(B)"
   ]
  },
  {
   "cell_type": "markdown",
   "id": "7d590f9d",
   "metadata": {},
   "source": [
    "解析NumPy输出的ND数组并不是最直观的事情，但如果你仔细观察，你可以看到这些输出基本上按照期望的方式排列了每个2x2的矩阵块。然而，通过再次检查原始内存，你也可以看到这个调用并没有改变实际的内存布局。"
   ]
  },
  {
   "cell_type": "code",
   "execution_count": 61,
   "id": "21a5f0eb",
   "metadata": {},
   "outputs": [
    {
     "name": "stdout",
     "output_type": "stream",
     "text": [
      "[ 0.  1.  2.  3.  4.  5.  6.  7.  8.  9. 10. 11. 12. 13. 14. 15. 16. 17.\n",
      " 18. 19. 20. 21. 22. 23. 24. 25. 26. 27. 28. 29. 30. 31. 32. 33. 34. 35.]\n"
     ]
    }
   ],
   "source": [
    "print(np.frombuffer(ctypes.string_at(B.ctypes.data, size=B.nbytes), B.dtype, B.size))"
   ]
  },
  {
   "cell_type": "code",
   "execution_count": 62,
   "id": "213372de",
   "metadata": {},
   "outputs": [
    {
     "data": {
      "text/plain": [
       "(48, 8, 24, 4)"
      ]
     },
     "execution_count": 62,
     "metadata": {},
     "output_type": "execute_result"
    }
   ],
   "source": [
    "B.strides  # 12 2 6 1 "
   ]
  },
  {
   "cell_type": "markdown",
   "id": "255ccd26",
   "metadata": {},
   "source": [
    "为了重新调整内存布局，使底层矩阵连续/紧凑（这对于使矩阵乘法高效是必需的），我们可以使用`np.ascontiguousarray()`函数。"
   ]
  },
  {
   "cell_type": "code",
   "execution_count": 63,
   "id": "02d505b4",
   "metadata": {},
   "outputs": [
    {
     "name": "stdout",
     "output_type": "stream",
     "text": [
      "[ 0.  1.  6.  7.  2.  3.  8.  9.  4.  5. 10. 11. 12. 13. 18. 19. 14. 15.\n",
      " 20. 21. 16. 17. 22. 23. 24. 25. 30. 31. 26. 27. 32. 33. 28. 29. 34. 35.]\n"
     ]
    }
   ],
   "source": [
    "C = np.ascontiguousarray(B)\n",
    "print(np.frombuffer(ctypes.string_at(C.ctypes.data, size=C.nbytes), C.dtype, C.size))"
   ]
  },
  {
   "cell_type": "markdown",
   "id": "aa10c7af",
   "metadata": {},
   "source": [
    "As you can see, the `C` array is layed out in compact order.  This can also be verified by looking as it's `.strides` property."
   ]
  },
  {
   "cell_type": "code",
   "execution_count": 64,
   "id": "9428292f",
   "metadata": {},
   "outputs": [
    {
     "data": {
      "text/plain": [
       "array([[[[ 0.,  1.],\n",
       "         [ 6.,  7.]],\n",
       "\n",
       "        [[ 2.,  3.],\n",
       "         [ 8.,  9.]],\n",
       "\n",
       "        [[ 4.,  5.],\n",
       "         [10., 11.]]],\n",
       "\n",
       "\n",
       "       [[[12., 13.],\n",
       "         [18., 19.]],\n",
       "\n",
       "        [[14., 15.],\n",
       "         [20., 21.]],\n",
       "\n",
       "        [[16., 17.],\n",
       "         [22., 23.]]],\n",
       "\n",
       "\n",
       "       [[[24., 25.],\n",
       "         [30., 31.]],\n",
       "\n",
       "        [[26., 27.],\n",
       "         [32., 33.]],\n",
       "\n",
       "        [[28., 29.],\n",
       "         [34., 35.]]]], dtype=float32)"
      ]
     },
     "execution_count": 64,
     "metadata": {},
     "output_type": "execute_result"
    }
   ],
   "source": [
    "C"
   ]
  },
  {
   "cell_type": "code",
   "execution_count": 65,
   "id": "4cd024d7",
   "metadata": {},
   "outputs": [
    {
     "name": "stdout",
     "output_type": "stream",
     "text": [
      "(48, 16, 8, 4)\n"
     ]
    }
   ],
   "source": [
    "print(C.strides) # (12, 4, 2, 1)"
   ]
  },
  {
   "cell_type": "markdown",
   "id": "42dba8dd",
   "metadata": {},
   "source": [
    "## Convolutions via im2col"
   ]
  },
  {
   "cell_type": "markdown",
   "id": "f5ef2ea7",
   "metadata": {},
   "source": [
    "让我们最后考虑一下实现卷积的“真正”方法，这种方法的速度几乎与PyTorch的实现相当。基本上，我们希望将卷积所需的所有计算捆绑在一个“单独的”矩阵乘法中，然后利用我们为普通矩阵乘法实现的所有优化。\n",
    "\n",
    "实现这一点的关键方法被称为`im2col`运算符，它将一个4D数组“展开”为执行卷积所需的形式。在进入4D情况之前，让我们看一个如何使用简单的2D数组来实现这个操作的示例，这个数组是我们在上述第一部分中使用的数组。"
   ]
  },
  {
   "cell_type": "code",
   "execution_count": 66,
   "id": "a46fbe41",
   "metadata": {},
   "outputs": [
    {
     "name": "stdout",
     "output_type": "stream",
     "text": [
      "[[ 0.  1.  2.  3.  4.  5.]\n",
      " [ 6.  7.  8.  9. 10. 11.]\n",
      " [12. 13. 14. 15. 16. 17.]\n",
      " [18. 19. 20. 21. 22. 23.]\n",
      " [24. 25. 26. 27. 28. 29.]\n",
      " [30. 31. 32. 33. 34. 35.]]\n"
     ]
    }
   ],
   "source": [
    "A = np.arange(36, dtype=np.float32).reshape(6,6)\n",
    "print(A)"
   ]
  },
  {
   "cell_type": "markdown",
   "id": "e11f38e4",
   "metadata": {},
   "source": [
    "And let's consider convolting with a 3x3 filter."
   ]
  },
  {
   "cell_type": "code",
   "execution_count": 67,
   "id": "e8407b24",
   "metadata": {},
   "outputs": [
    {
     "name": "stdout",
     "output_type": "stream",
     "text": [
      "[[0. 1. 2.]\n",
      " [3. 4. 5.]\n",
      " [6. 7. 8.]]\n"
     ]
    }
   ],
   "source": [
    "W = np.arange(9, dtype=np.float32).reshape(3,3)\n",
    "print(W)"
   ]
  },
  {
   "cell_type": "markdown",
   "id": "895b9f26",
   "metadata": {},
   "source": [
    "回想一下，卷积将这个滤波器与图像中的每个3x3块进行乘法运算。那么我们如何提取每个这样的3x3块呢？关键在于形成一个$(H-K+1) \\times (W-K+1) \\times K \\times K$的数组，其中包含所有这些块，然后将其展平为一个我们可以用滤波器进行乘法运算的矩阵（这与我们在先前关于1D卷积的讲座中所讨论的数学过程相同，但现在我们要在2D情况下真正执行它）。但是在没有手动复制的情况下，如何创建这个所有块的数组呢？幸运的是，事实证明，我们上面所讨论的`as_strided()`函数实际上正是我们需要的。\n",
    "\n",
    "具体地说，如果我们创建一个大小为`(4,4,3,3)`的新视图，我们如何使用`as_strided()`返回我们想要的矩阵呢？请注意，前两个维度的步幅与普通的数组一样，为6和1：增加第一个索引1会移动到下一行，增加下一个索引则移动到下一列。但有趣的是（这就是“技巧”），第三和第四个维度的步幅也分别为6和1，因为增加第三个索引1也会移动到下一行，第四个索引同理。让我们看看这在实践中是什么样子。"
   ]
  },
  {
   "cell_type": "code",
   "execution_count": 68,
   "id": "51b2c67c",
   "metadata": {},
   "outputs": [
    {
     "name": "stdout",
     "output_type": "stream",
     "text": [
      "[[[[ 0.  1.  2.]\n",
      "   [ 6.  7.  8.]\n",
      "   [12. 13. 14.]]\n",
      "\n",
      "  [[ 1.  2.  3.]\n",
      "   [ 7.  8.  9.]\n",
      "   [13. 14. 15.]]\n",
      "\n",
      "  [[ 2.  3.  4.]\n",
      "   [ 8.  9. 10.]\n",
      "   [14. 15. 16.]]\n",
      "\n",
      "  [[ 3.  4.  5.]\n",
      "   [ 9. 10. 11.]\n",
      "   [15. 16. 17.]]]\n",
      "\n",
      "\n",
      " [[[ 6.  7.  8.]\n",
      "   [12. 13. 14.]\n",
      "   [18. 19. 20.]]\n",
      "\n",
      "  [[ 7.  8.  9.]\n",
      "   [13. 14. 15.]\n",
      "   [19. 20. 21.]]\n",
      "\n",
      "  [[ 8.  9. 10.]\n",
      "   [14. 15. 16.]\n",
      "   [20. 21. 22.]]\n",
      "\n",
      "  [[ 9. 10. 11.]\n",
      "   [15. 16. 17.]\n",
      "   [21. 22. 23.]]]\n",
      "\n",
      "\n",
      " [[[12. 13. 14.]\n",
      "   [18. 19. 20.]\n",
      "   [24. 25. 26.]]\n",
      "\n",
      "  [[13. 14. 15.]\n",
      "   [19. 20. 21.]\n",
      "   [25. 26. 27.]]\n",
      "\n",
      "  [[14. 15. 16.]\n",
      "   [20. 21. 22.]\n",
      "   [26. 27. 28.]]\n",
      "\n",
      "  [[15. 16. 17.]\n",
      "   [21. 22. 23.]\n",
      "   [27. 28. 29.]]]\n",
      "\n",
      "\n",
      " [[[18. 19. 20.]\n",
      "   [24. 25. 26.]\n",
      "   [30. 31. 32.]]\n",
      "\n",
      "  [[19. 20. 21.]\n",
      "   [25. 26. 27.]\n",
      "   [31. 32. 33.]]\n",
      "\n",
      "  [[20. 21. 22.]\n",
      "   [26. 27. 28.]\n",
      "   [32. 33. 34.]]\n",
      "\n",
      "  [[21. 22. 23.]\n",
      "   [27. 28. 29.]\n",
      "   [33. 34. 35.]]]]\n"
     ]
    }
   ],
   "source": [
    "B = np.lib.stride_tricks.as_strided(A, shape=(4,4,3,3), strides=4*(np.array((6,1,6,1))))\n",
    "print(B)"
   ]
  },
  {
   "cell_type": "markdown",
   "id": "fb39c25b",
   "metadata": {},
   "source": [
    "这正是我们需要的4D数组。现在，如果我们想将卷积计算作为“单一”的矩阵乘法来执行，我们只需将这个数组展平成一个$(4 \\cdot 4) \\times (3 \\cdot 3)$的矩阵，将权重重新调整为一个9维向量（对于多通道卷积情况下，权重将重新调整为一个矩阵），然后执行矩阵乘法。最后，将得到的向量重新调整为一个$4 \\times 4$的数组以执行卷积操作。\n"
   ]
  },
  {
   "cell_type": "code",
   "execution_count": 69,
   "id": "329c8183",
   "metadata": {},
   "outputs": [
    {
     "data": {
      "text/plain": [
       "array([[ 0.,  1.,  2.,  6.,  7.,  8., 12., 13., 14.],\n",
       "       [ 1.,  2.,  3.,  7.,  8.,  9., 13., 14., 15.],\n",
       "       [ 2.,  3.,  4.,  8.,  9., 10., 14., 15., 16.],\n",
       "       [ 3.,  4.,  5.,  9., 10., 11., 15., 16., 17.],\n",
       "       [ 6.,  7.,  8., 12., 13., 14., 18., 19., 20.],\n",
       "       [ 7.,  8.,  9., 13., 14., 15., 19., 20., 21.],\n",
       "       [ 8.,  9., 10., 14., 15., 16., 20., 21., 22.],\n",
       "       [ 9., 10., 11., 15., 16., 17., 21., 22., 23.],\n",
       "       [12., 13., 14., 18., 19., 20., 24., 25., 26.],\n",
       "       [13., 14., 15., 19., 20., 21., 25., 26., 27.],\n",
       "       [14., 15., 16., 20., 21., 22., 26., 27., 28.],\n",
       "       [15., 16., 17., 21., 22., 23., 27., 28., 29.],\n",
       "       [18., 19., 20., 24., 25., 26., 30., 31., 32.],\n",
       "       [19., 20., 21., 25., 26., 27., 31., 32., 33.],\n",
       "       [20., 21., 22., 26., 27., 28., 32., 33., 34.],\n",
       "       [21., 22., 23., 27., 28., 29., 33., 34., 35.]], dtype=float32)"
      ]
     },
     "execution_count": 69,
     "metadata": {},
     "output_type": "execute_result"
    }
   ],
   "source": [
    "B.reshape(16, 9)"
   ]
  },
  {
   "cell_type": "code",
   "execution_count": 70,
   "id": "6c7e8815",
   "metadata": {},
   "outputs": [
    {
     "name": "stdout",
     "output_type": "stream",
     "text": [
      "[ 0.  1.  2.  3.  4.  5.  6.  7.  8.  9. 10. 11. 12. 13. 14. 15. 16. 17.\n",
      " 18. 19. 20. 21. 22. 23. 24. 25. 26. 27. 28. 29. 30. 31. 32. 33. 34. 35.]\n"
     ]
    }
   ],
   "source": [
    "print(np.frombuffer(ctypes.string_at(B.ctypes.data, size=A.nbytes), B.dtype, A.size))"
   ]
  },
  {
   "cell_type": "code",
   "execution_count": 71,
   "id": "79daf789",
   "metadata": {},
   "outputs": [
    {
     "data": {
      "text/plain": [
       "(24, 4, 24, 4)"
      ]
     },
     "execution_count": 71,
     "metadata": {},
     "output_type": "execute_result"
    }
   ],
   "source": [
    "B.strides"
   ]
  },
  {
   "cell_type": "code",
   "execution_count": 72,
   "id": "cfaa6a5c",
   "metadata": {},
   "outputs": [],
   "source": [
    "C = B.reshape(16,9)"
   ]
  },
  {
   "cell_type": "code",
   "execution_count": 73,
   "id": "d630499a",
   "metadata": {},
   "outputs": [
    {
     "data": {
      "text/plain": [
       "(36, 4)"
      ]
     },
     "execution_count": 73,
     "metadata": {},
     "output_type": "execute_result"
    }
   ],
   "source": [
    "C.strides"
   ]
  },
  {
   "cell_type": "code",
   "execution_count": 74,
   "id": "9ddd9026",
   "metadata": {},
   "outputs": [
    {
     "data": {
      "text/plain": [
       "array([[ 366.,  402.,  438.,  474.],\n",
       "       [ 582.,  618.,  654.,  690.],\n",
       "       [ 798.,  834.,  870.,  906.],\n",
       "       [1014., 1050., 1086., 1122.]], dtype=float32)"
      ]
     },
     "execution_count": 74,
     "metadata": {},
     "output_type": "execute_result"
    }
   ],
   "source": [
    "(B.reshape(16,9) @ W.reshape(9)).reshape(4,4)"
   ]
  },
  {
   "cell_type": "markdown",
   "id": "6b08c03a",
   "metadata": {},
   "source": [
    "### A critical note on memory efficiency\n",
    "\n",
    "关于此操作的内存效率，有一个非常关键的要点需要提醒。虽然将`W`重新调整为一个数组（或对于多通道卷积情况下的矩阵）是“免费”的，即不需要分配额外的内存，但上面提到的将`B`矩阵重新调整为2D矩阵的操作则不是\"免费\"的。具体来说，当`B`以2D矩阵的形式存在时，不能使用任何形式的步幅来表示这个数据，我们必须分配整个矩阵的内存。这意味着我们实际上需要形成完整的im2col矩阵，这比原始图像需要额外的$O(K^2)$内存，对于较大的核大小可能会非常昂贵。\n",
    "\n",
    "因此，在实践中，最好的现代实现通常不会实际实例化完整的im2col矩阵，而是执行一种\"延迟\"形成或将矩阵操作本地专门用于im2col矩阵的本地步幅形式。这些都是相当高级的主题，在课程中我们不会进一步讨论，因为就我们的目的而言，在执行卷积后，只需要分配这个矩阵，然后迅速释放它即可（请记住，我们不需要在im2col操作中进行反向传播等操作）。\n"
   ]
  },
  {
   "cell_type": "markdown",
   "id": "91503a67",
   "metadata": {},
   "source": [
    "### im2col for multi-channel convolutions"
   ]
  },
  {
   "cell_type": "markdown",
   "id": "358af2ab",
   "metadata": {},
   "source": [
    "要实际实现多通道、小批量卷积的im2col操作，该过程实际上并不复杂。与形成4D的$(H - K + 1) \\times (W - K + 1) \\times K \\times K$数组不同，我们形成一个6D的$N \\times (H - K + 1) \\times (W - K + 1) \\times K \\times K \\times C$数组（保持小批量和通道维度不变）。想一想，很明显我们可以通过只重复维度1和2（高度和宽度）的步长来为维度3和4（$K \\times K$块）应用相同的技巧，并保持小批量和通道的步长不变。此外，你甚至不需要手动计算步长：你可以直接使用输入$Z$的步长，并重复它们的值。\n",
    "\n",
    "为了计算卷积，您需要将im2col矩阵展平为一个$(N \\cdot (H - K + 1) \\cdot (W - K + 1)) \\times (K \\cdot K \\cdot C)$的矩阵（请记住，这种操作的内存效率非常低），并将权重数组展平为一个$(K \\cdot K \\cdot C) \\times C_{\\text{out}}$的矩阵，执行乘法运算，然后将结果的大小调整回期望的最终4D数组输出大小。下面是完整的操作过程。\n"
   ]
  },
  {
   "cell_type": "code",
   "execution_count": 75,
   "id": "b4a00e0c",
   "metadata": {},
   "outputs": [],
   "source": [
    "def conv_im2col(Z, weight):\n",
    "    N,H,W,C_in = Z.shape\n",
    "    K,_,_,C_out = weight.shape\n",
    "    Ns, Hs, Ws, Cs = Z.strides\n",
    "    \n",
    "    inner_dim = K * K * C_in\n",
    "    A = np.lib.stride_tricks.as_strided(Z, shape = (N, H-K+1, W-K+1, K, K, C_in),\n",
    "                                        strides = (Ns, Hs, Ws, Hs, Ws, Cs)).reshape(-1,inner_dim)\n",
    "    out = A @ weight.reshape(-1, C_out)\n",
    "    return out.reshape(N,H-K+1,W-K+1,C_out)"
   ]
  },
  {
   "cell_type": "markdown",
   "id": "6f3955e0",
   "metadata": {},
   "source": [
    "Again, we can check that this version produces the same output as the PyTorch reference (or our other implementations, at this point):"
   ]
  },
  {
   "cell_type": "code",
   "execution_count": 76,
   "id": "d7df0666",
   "metadata": {},
   "outputs": [
    {
     "name": "stdout",
     "output_type": "stream",
     "text": [
      "0.0\n"
     ]
    }
   ],
   "source": [
    "Z = np.random.randn(100,32,32,8)\n",
    "W = np.random.randn(3,3,8,16)\n",
    "out = conv_reference(Z,W)\n",
    "out2 = conv_im2col(Z,W)\n",
    "print(np.linalg.norm(out - out2))"
   ]
  },
  {
   "cell_type": "markdown",
   "id": "e0f888dd",
   "metadata": {},
   "source": [
    "However, at this point we're finally starting to get competetive with PyTorch, taking only 25% more time than the PyTorch implementation on my machine."
   ]
  },
  {
   "cell_type": "code",
   "execution_count": 79,
   "id": "10bcfbb7",
   "metadata": {},
   "outputs": [
    {
     "name": "stdout",
     "output_type": "stream",
     "text": [
      "34.9 ms ± 9 ms per loop (mean ± std. dev. of 7 runs, 10 loops each)\n"
     ]
    }
   ],
   "source": [
    "%%timeit\n",
    "out3 = conv_im2col(Z,W)"
   ]
  },
  {
   "cell_type": "code",
   "execution_count": 80,
   "id": "4d446458",
   "metadata": {},
   "outputs": [
    {
     "name": "stdout",
     "output_type": "stream",
     "text": [
      "7.05 ms ± 1.06 ms per loop (mean ± std. dev. of 7 runs, 100 loops each)\n"
     ]
    }
   ],
   "source": [
    "%%timeit\n",
    "out3 = conv_reference(Z,W)"
   ]
  },
  {
   "cell_type": "markdown",
   "id": "7351e341",
   "metadata": {},
   "source": [
    "## Final notes\n",
    "\n",
    "Hopefully this quick intro gave you a bit of appreciation and understanding of what is going on \"under the hood\" of modern convolution implementations.  It hopefully also gave you some understanding how just how powerful stride manipulation can be, able to accomplish some very complex operations without actually needing to explicitly loop over matrices (though, as we'll see on the homework, a bit of the complexity is still being outsourced to the `.reshape` and it's implicit `np.ascontinugousarray()` call, which is not completely trivial; but we'll deal with this on the homework.\n",
    "\n",
    "希望这个简短的介绍让您对现代卷积实现\"底层\"发生的事情有了一些欣赏和理解。希望这也给您一些对步幅操作有多么强大的认知，能够在没有显式循环矩阵的情况下完成一些非常复杂的操作（尽管在作业中我们将看到一些复杂性仍然被转移到`.reshape`和它的隐式`np.ascontiguousarray()`调用中，这并不完全简单；但这些我们会在作业中处理）。\n"
   ]
  },
  {
   "cell_type": "markdown",
   "id": "384cb310",
   "metadata": {},
   "source": []
  }
 ],
 "metadata": {
  "kernelspec": {
   "display_name": "Python 3 (ipykernel)",
   "language": "python",
   "name": "python3"
  },
  "language_info": {
   "codemirror_mode": {
    "name": "ipython",
    "version": 3
   },
   "file_extension": ".py",
   "mimetype": "text/x-python",
   "name": "python",
   "nbconvert_exporter": "python",
   "pygments_lexer": "ipython3",
   "version": "3.11.5"
  }
 },
 "nbformat": 4,
 "nbformat_minor": 5
}
